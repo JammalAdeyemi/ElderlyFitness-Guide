{
 "cells": [
  {
   "cell_type": "code",
   "execution_count": 1,
   "metadata": {},
   "outputs": [],
   "source": [
    "import pandas as pd\n",
    "import numpy as np\n",
    "import matplotlib.pyplot as plt\n",
    "import csv\n",
    "\n",
    "import sys\n",
    "sys.path.append('/Users/oabas/Documents/GitHub/Exercise-Pose-Detection/Codebase/model_training')\n",
    "from data import BodyPart\n",
    "\n",
    "from sklearn.model_selection import train_test_split\n",
    "\n",
    "import tensorflow as tf\n",
    "import tensorflowjs as tfjs\n",
    "from tensorflow import keras"
   ]
  },
  {
   "cell_type": "code",
   "execution_count": 2,
   "metadata": {},
   "outputs": [],
   "source": [
    "tfjs_model_dir = 'model'"
   ]
  },
  {
   "cell_type": "code",
   "execution_count": 3,
   "metadata": {},
   "outputs": [],
   "source": [
    "def load_csv(csv_path):\n",
    "    df = pd.read_csv(csv_path)\n",
    "    df.drop(['filename'],axis=1, inplace=True)\n",
    "    classes = df.pop('class_name').unique()\n",
    "    y = df.pop('class_no')\n",
    "\n",
    "    X = df.astype('float64')\n",
    "    y = keras.utils.to_categorical(y)\n",
    "    \n",
    "    return X, y, classes\n",
    "\n",
    "\n",
    "def get_center_point(landmarks, left_bodypart, right_bodypart):\n",
    "    left = tf.gather(landmarks, left_bodypart.value, axis=1)\n",
    "    right = tf.gather(landmarks, right_bodypart.value, axis=1)\n",
    "    center = left * 0.5 + right * 0.5\n",
    "    return center"
   ]
  },
  {
   "cell_type": "code",
   "execution_count": 4,
   "metadata": {},
   "outputs": [],
   "source": [
    "def get_pose_size(landmarks, torso_size_multiplier=2.5):\n",
    "  \n",
    "    hips_center = get_center_point(landmarks, BodyPart.LEFT_HIP, \n",
    "                                 BodyPart.RIGHT_HIP)\n",
    "\n",
    "    shoulders_center = get_center_point(landmarks, BodyPart.LEFT_SHOULDER,\n",
    "                                      BodyPart.RIGHT_SHOULDER)\n",
    "\n",
    "    # Torso size as the minimum body size\n",
    "    torso_size = tf.linalg.norm(shoulders_center - hips_center)\n",
    "    # Pose center\n",
    "    pose_center_new = get_center_point(landmarks, BodyPart.LEFT_HIP, \n",
    "                                     BodyPart.RIGHT_HIP)\n",
    "    pose_center_new = tf.expand_dims(pose_center_new, axis=1)\n",
    "    # Broadcast the pose center to the same size as the landmark vector to\n",
    "    # perform substraction\n",
    "    pose_center_new = tf.broadcast_to(pose_center_new,\n",
    "                                    [tf.size(landmarks) // (17*2), 17, 2])\n",
    "\n",
    "    # Dist to pose center\n",
    "    d = tf.gather(landmarks - pose_center_new, 0, axis=0,\n",
    "                name=\"dist_to_pose_center\")\n",
    "    # Max dist to pose center\n",
    "    max_dist = tf.reduce_max(tf.linalg.norm(d, axis=0))\n",
    "\n",
    "    # Normalize scale\n",
    "    pose_size = tf.maximum(torso_size * torso_size_multiplier, max_dist)\n",
    "    return pose_size"
   ]
  },
  {
   "cell_type": "code",
   "execution_count": 5,
   "metadata": {},
   "outputs": [],
   "source": [
    "def normalize_pose_landmarks(landmarks):\n",
    "    \"\"\"Normalizes the landmarks translation by moving the pose center to (0,0) and\n",
    "    scaling it to a constant pose size.\n",
    "  \"\"\"\n",
    "  # Move landmarks so that the pose center becomes (0,0)\n",
    "    pose_center = get_center_point(landmarks, BodyPart.LEFT_HIP, \n",
    "                                 BodyPart.RIGHT_HIP)\n",
    "\n",
    "    pose_center = tf.expand_dims(pose_center, axis=1)\n",
    "    # Broadcast the pose center to the same size as the landmark vector to perform\n",
    "    # substraction\n",
    "    pose_center = tf.broadcast_to(pose_center, \n",
    "                                [tf.size(landmarks) // (17*2), 17, 2])\n",
    "    landmarks = landmarks - pose_center\n",
    "\n",
    "    # Scale the landmarks to a constant pose size\n",
    "    pose_size = get_pose_size(landmarks)\n",
    "    landmarks /= pose_size\n",
    "    return landmarks"
   ]
  },
  {
   "cell_type": "code",
   "execution_count": 6,
   "metadata": {},
   "outputs": [],
   "source": [
    "def landmarks_to_embedding(landmarks_and_scores):\n",
    "    \"\"\"Converts the input landmarks into a pose embedding.\"\"\"\n",
    "    # Reshape the flat input into a matrix with shape=(17, 3)\n",
    "    reshaped_inputs = keras.layers.Reshape((17, 3))(landmarks_and_scores)\n",
    "\n",
    "    # Normalize landmarks 2D\n",
    "    landmarks = normalize_pose_landmarks(reshaped_inputs[:, :, :2])\n",
    "    # Flatten the normalized landmark coordinates into a vector\n",
    "    embedding = keras.layers.Flatten()(landmarks)\n",
    "    return embedding"
   ]
  },
  {
   "cell_type": "code",
   "execution_count": 7,
   "metadata": {},
   "outputs": [],
   "source": [
    "def preprocess_data(X_train):\n",
    "    processed_X_train = []\n",
    "    for i in range(X_train.shape[0]):\n",
    "        embedding = landmarks_to_embedding(tf.reshape(tf.convert_to_tensor(X_train.iloc[i]), (1, 51)))\n",
    "        processed_X_train.append(tf.reshape(embedding, (34)))\n",
    "    return tf.convert_to_tensor(processed_X_train)"
   ]
  },
  {
   "cell_type": "code",
   "execution_count": 8,
   "metadata": {},
   "outputs": [],
   "source": [
    "X, y, class_names = load_csv('../../../Data/model_data/train_data.csv')\n",
    "X_train, X_val, y_train, y_val = train_test_split(X, y, test_size=0.15)\n",
    "X_test, y_test, _ = load_csv('../../../Data/model_data/test_data.csv')\n",
    "num_classes = len(class_names)"
   ]
  },
  {
   "cell_type": "code",
   "execution_count": 9,
   "metadata": {},
   "outputs": [
    {
     "name": "stdout",
     "output_type": "stream",
     "text": [
      "Metal device set to: Apple M2\n",
      "\n",
      "systemMemory: 8.00 GB\n",
      "maxCacheSize: 2.67 GB\n",
      "\n"
     ]
    }
   ],
   "source": [
    "processed_X_train = preprocess_data(X_train)\n",
    "processed_X_val =  preprocess_data(X_val)\n",
    "processed_X_test = preprocess_data(X_test)"
   ]
  },
  {
   "cell_type": "code",
   "execution_count": 10,
   "metadata": {},
   "outputs": [
    {
     "name": "stdout",
     "output_type": "stream",
     "text": [
      "Shape of processed_X_train: (5357, 34)\n",
      "Shape of processed_X_val: (946, 34)\n",
      "Shape of processed_X_test: (1303, 34)\n"
     ]
    }
   ],
   "source": [
    "print(\"Shape of processed_X_train:\", processed_X_train.shape)\n",
    "print(\"Shape of processed_X_val:\", processed_X_val.shape)\n",
    "print(\"Shape of processed_X_test:\", processed_X_test.shape)"
   ]
  },
  {
   "cell_type": "code",
   "execution_count": 11,
   "metadata": {},
   "outputs": [
    {
     "name": "stdout",
     "output_type": "stream",
     "text": [
      "Shape of y_train: (5357, 13)\n",
      "Shape of y_val: (946, 13)\n",
      "Shape of y_test: (1303, 13)\n"
     ]
    }
   ],
   "source": [
    "print(\"Shape of y_train:\", y_train.shape)\n",
    "print(\"Shape of y_val:\", y_val.shape)\n",
    "print(\"Shape of y_test:\", y_test.shape)"
   ]
  },
  {
   "cell_type": "code",
   "execution_count": 13,
   "metadata": {},
   "outputs": [],
   "source": [
    "# MLP model\n",
    "inputs = keras.Input(shape=(34,)) \n",
    "\n",
    "# Hidden layers\n",
    "x = keras.layers.Dense(512, activation='relu')(inputs)\n",
    "x = keras.layers.BatchNormalization()(x)\n",
    "x = keras.layers.Dropout(0.3)(x)\n",
    "\n",
    "x = keras.layers.Dense(256, activation='relu')(x)\n",
    "x = keras.layers.BatchNormalization()(x)\n",
    "x = keras.layers.Dropout(0.3)(x)\n",
    "\n",
    "# Output layer\n",
    "outputs = keras.layers.Dense(num_classes, activation='softmax')(x)"
   ]
  },
  {
   "cell_type": "code",
   "execution_count": 14,
   "metadata": {},
   "outputs": [],
   "source": [
    "model_mlp = keras.Model(inputs, outputs) \n",
    "\n",
    "# Compile\n",
    "model_mlp.compile(optimizer='adam',\n",
    "                  loss='categorical_crossentropy', \n",
    "                  metrics=['accuracy'])"
   ]
  },
  {
   "cell_type": "code",
   "execution_count": 15,
   "metadata": {},
   "outputs": [],
   "source": [
    "# Add a checkpoint callback to store the checkpoint that has the highest validation accuracy.\n",
    "checkpoint_path = \"MLP_tf.h5\"\n",
    "checkpoint = keras.callbacks.ModelCheckpoint(checkpoint_path,\n",
    "                                             monitor='val_accuracy',\n",
    "                                             verbose=1,\n",
    "                                             save_best_only=True,\n",
    "                                             mode='max')\n",
    "earlystopping = keras.callbacks.EarlyStopping(monitor='val_accuracy', \n",
    "                                              patience=20)"
   ]
  },
  {
   "cell_type": "code",
   "execution_count": 16,
   "metadata": {},
   "outputs": [
    {
     "name": "stdout",
     "output_type": "stream",
     "text": [
      "--------------TRAINING CNN MODEL----------------\n",
      "Epoch 1/150\n",
      "335/335 [==============================] - ETA: 0s - loss: 0.6223 - accuracy: 0.8051\n",
      "Epoch 1: val_accuracy improved from -inf to 0.75687, saving model to MLP_tf.h5\n",
      "335/335 [==============================] - 7s 16ms/step - loss: 0.6223 - accuracy: 0.8051 - val_loss: 1.0188 - val_accuracy: 0.7569\n",
      "Epoch 2/150\n",
      "  5/335 [..............................] - ETA: 8s - loss: 0.2031 - accuracy: 0.9375"
     ]
    },
    {
     "name": "stderr",
     "output_type": "stream",
     "text": [
      "/Users/oabas/miniconda3/lib/python3.9/site-packages/keras/src/engine/training.py:3000: UserWarning: You are saving your model as an HDF5 file via `model.save()`. This file format is considered legacy. We recommend using instead the native Keras format, e.g. `model.save('my_model.keras')`.\n",
      "  saving_api.save_model(\n"
     ]
    },
    {
     "name": "stdout",
     "output_type": "stream",
     "text": [
      "332/335 [============================>.] - ETA: 0s - loss: 0.3202 - accuracy: 0.8946\n",
      "Epoch 2: val_accuracy improved from 0.75687 to 0.93235, saving model to MLP_tf.h5\n",
      "335/335 [==============================] - 5s 14ms/step - loss: 0.3187 - accuracy: 0.8947 - val_loss: 0.2273 - val_accuracy: 0.9323\n",
      "Epoch 3/150\n",
      "332/335 [============================>.] - ETA: 0s - loss: 0.2443 - accuracy: 0.9194\n",
      "Epoch 3: val_accuracy improved from 0.93235 to 0.95560, saving model to MLP_tf.h5\n",
      "335/335 [==============================] - 5s 16ms/step - loss: 0.2434 - accuracy: 0.9197 - val_loss: 0.1441 - val_accuracy: 0.9556\n",
      "Epoch 4/150\n",
      "335/335 [==============================] - ETA: 0s - loss: 0.2013 - accuracy: 0.9317\n",
      "Epoch 4: val_accuracy improved from 0.95560 to 0.96617, saving model to MLP_tf.h5\n",
      "335/335 [==============================] - 5s 16ms/step - loss: 0.2013 - accuracy: 0.9317 - val_loss: 0.1286 - val_accuracy: 0.9662\n",
      "Epoch 5/150\n",
      "335/335 [==============================] - ETA: 0s - loss: 0.1744 - accuracy: 0.9405\n",
      "Epoch 5: val_accuracy did not improve from 0.96617\n",
      "335/335 [==============================] - 6s 17ms/step - loss: 0.1744 - accuracy: 0.9405 - val_loss: 0.1588 - val_accuracy: 0.9545\n",
      "Epoch 6/150\n",
      "335/335 [==============================] - ETA: 0s - loss: 0.1667 - accuracy: 0.9429\n",
      "Epoch 6: val_accuracy did not improve from 0.96617\n",
      "335/335 [==============================] - 5s 14ms/step - loss: 0.1667 - accuracy: 0.9429 - val_loss: 0.1500 - val_accuracy: 0.9535\n",
      "Epoch 7/150\n",
      "335/335 [==============================] - ETA: 0s - loss: 0.1551 - accuracy: 0.9464\n",
      "Epoch 7: val_accuracy did not improve from 0.96617\n",
      "335/335 [==============================] - 5s 15ms/step - loss: 0.1551 - accuracy: 0.9464 - val_loss: 0.1227 - val_accuracy: 0.9630\n",
      "Epoch 8/150\n",
      "335/335 [==============================] - ETA: 0s - loss: 0.1339 - accuracy: 0.9582\n",
      "Epoch 8: val_accuracy did not improve from 0.96617\n",
      "335/335 [==============================] - 5s 14ms/step - loss: 0.1339 - accuracy: 0.9582 - val_loss: 0.1325 - val_accuracy: 0.9662\n",
      "Epoch 9/150\n",
      "335/335 [==============================] - ETA: 0s - loss: 0.1351 - accuracy: 0.9541\n",
      "Epoch 9: val_accuracy did not improve from 0.96617\n",
      "335/335 [==============================] - 5s 13ms/step - loss: 0.1351 - accuracy: 0.9541 - val_loss: 0.1590 - val_accuracy: 0.9461\n",
      "Epoch 10/150\n",
      "335/335 [==============================] - ETA: 0s - loss: 0.1325 - accuracy: 0.9552\n",
      "Epoch 10: val_accuracy improved from 0.96617 to 0.96934, saving model to MLP_tf.h5\n",
      "335/335 [==============================] - 5s 14ms/step - loss: 0.1325 - accuracy: 0.9552 - val_loss: 0.1300 - val_accuracy: 0.9693\n",
      "Epoch 11/150\n",
      "334/335 [============================>.] - ETA: 0s - loss: 0.1323 - accuracy: 0.9570\n",
      "Epoch 11: val_accuracy improved from 0.96934 to 0.97463, saving model to MLP_tf.h5\n",
      "335/335 [==============================] - 5s 14ms/step - loss: 0.1326 - accuracy: 0.9567 - val_loss: 0.1065 - val_accuracy: 0.9746\n",
      "Epoch 12/150\n",
      "331/335 [============================>.] - ETA: 0s - loss: 0.1203 - accuracy: 0.9607\n",
      "Epoch 12: val_accuracy did not improve from 0.97463\n",
      "335/335 [==============================] - 5s 15ms/step - loss: 0.1215 - accuracy: 0.9604 - val_loss: 0.1344 - val_accuracy: 0.9641\n",
      "Epoch 13/150\n",
      "334/335 [============================>.] - ETA: 0s - loss: 0.1086 - accuracy: 0.9622\n",
      "Epoch 13: val_accuracy improved from 0.97463 to 0.98414, saving model to MLP_tf.h5\n",
      "335/335 [==============================] - 5s 16ms/step - loss: 0.1083 - accuracy: 0.9623 - val_loss: 0.0907 - val_accuracy: 0.9841\n",
      "Epoch 14/150\n",
      "335/335 [==============================] - ETA: 0s - loss: 0.1079 - accuracy: 0.9664\n",
      "Epoch 14: val_accuracy did not improve from 0.98414\n",
      "335/335 [==============================] - 5s 16ms/step - loss: 0.1079 - accuracy: 0.9664 - val_loss: 0.1055 - val_accuracy: 0.9704\n",
      "Epoch 15/150\n",
      "335/335 [==============================] - ETA: 0s - loss: 0.1064 - accuracy: 0.9625\n",
      "Epoch 15: val_accuracy did not improve from 0.98414\n",
      "335/335 [==============================] - 5s 16ms/step - loss: 0.1064 - accuracy: 0.9625 - val_loss: 0.1238 - val_accuracy: 0.9630\n",
      "Epoch 16/150\n",
      "333/335 [============================>.] - ETA: 0s - loss: 0.1159 - accuracy: 0.9606\n",
      "Epoch 16: val_accuracy did not improve from 0.98414\n",
      "335/335 [==============================] - 5s 14ms/step - loss: 0.1163 - accuracy: 0.9604 - val_loss: 0.1013 - val_accuracy: 0.9725\n",
      "Epoch 17/150\n",
      "332/335 [============================>.] - ETA: 0s - loss: 0.1009 - accuracy: 0.9680\n",
      "Epoch 17: val_accuracy did not improve from 0.98414\n",
      "335/335 [==============================] - 5s 14ms/step - loss: 0.1006 - accuracy: 0.9683 - val_loss: 0.0938 - val_accuracy: 0.9641\n",
      "Epoch 18/150\n",
      "335/335 [==============================] - ETA: 0s - loss: 0.0894 - accuracy: 0.9720\n",
      "Epoch 18: val_accuracy did not improve from 0.98414\n",
      "335/335 [==============================] - 5s 14ms/step - loss: 0.0894 - accuracy: 0.9720 - val_loss: 0.1074 - val_accuracy: 0.9725\n",
      "Epoch 19/150\n",
      "333/335 [============================>.] - ETA: 0s - loss: 0.0862 - accuracy: 0.9732\n",
      "Epoch 19: val_accuracy did not improve from 0.98414\n",
      "335/335 [==============================] - 5s 14ms/step - loss: 0.0861 - accuracy: 0.9733 - val_loss: 0.1116 - val_accuracy: 0.9704\n",
      "Epoch 20/150\n",
      "332/335 [============================>.] - ETA: 0s - loss: 0.0916 - accuracy: 0.9721\n",
      "Epoch 20: val_accuracy did not improve from 0.98414\n",
      "335/335 [==============================] - 5s 14ms/step - loss: 0.0911 - accuracy: 0.9722 - val_loss: 0.1064 - val_accuracy: 0.9683\n",
      "Epoch 21/150\n",
      "333/335 [============================>.] - ETA: 0s - loss: 0.0922 - accuracy: 0.9703\n",
      "Epoch 21: val_accuracy did not improve from 0.98414\n",
      "335/335 [==============================] - 5s 14ms/step - loss: 0.0929 - accuracy: 0.9698 - val_loss: 0.1517 - val_accuracy: 0.9514\n",
      "Epoch 22/150\n",
      "334/335 [============================>.] - ETA: 0s - loss: 0.0876 - accuracy: 0.9704\n",
      "Epoch 22: val_accuracy did not improve from 0.98414\n",
      "335/335 [==============================] - 5s 14ms/step - loss: 0.0880 - accuracy: 0.9703 - val_loss: 0.1116 - val_accuracy: 0.9641\n",
      "Epoch 23/150\n",
      "335/335 [==============================] - ETA: 0s - loss: 0.0984 - accuracy: 0.9658\n",
      "Epoch 23: val_accuracy did not improve from 0.98414\n",
      "335/335 [==============================] - 5s 14ms/step - loss: 0.0984 - accuracy: 0.9658 - val_loss: 0.0914 - val_accuracy: 0.9810\n",
      "Epoch 24/150\n",
      "332/335 [============================>.] - ETA: 0s - loss: 0.0857 - accuracy: 0.9723\n",
      "Epoch 24: val_accuracy did not improve from 0.98414\n",
      "335/335 [==============================] - 5s 14ms/step - loss: 0.0872 - accuracy: 0.9720 - val_loss: 0.0862 - val_accuracy: 0.9746\n",
      "Epoch 25/150\n",
      "335/335 [==============================] - ETA: 0s - loss: 0.0792 - accuracy: 0.9731\n",
      "Epoch 25: val_accuracy did not improve from 0.98414\n",
      "335/335 [==============================] - 5s 14ms/step - loss: 0.0792 - accuracy: 0.9731 - val_loss: 0.0747 - val_accuracy: 0.9799\n",
      "Epoch 26/150\n",
      "333/335 [============================>.] - ETA: 0s - loss: 0.0839 - accuracy: 0.9720\n",
      "Epoch 26: val_accuracy did not improve from 0.98414\n",
      "335/335 [==============================] - 5s 14ms/step - loss: 0.0859 - accuracy: 0.9716 - val_loss: 0.1035 - val_accuracy: 0.9683\n",
      "Epoch 27/150\n",
      "334/335 [============================>.] - ETA: 0s - loss: 0.0718 - accuracy: 0.9764\n",
      "Epoch 27: val_accuracy did not improve from 0.98414\n",
      "335/335 [==============================] - 5s 15ms/step - loss: 0.0716 - accuracy: 0.9765 - val_loss: 0.0957 - val_accuracy: 0.9767\n",
      "Epoch 28/150\n",
      "334/335 [============================>.] - ETA: 0s - loss: 0.0867 - accuracy: 0.9736\n",
      "Epoch 28: val_accuracy did not improve from 0.98414\n",
      "335/335 [==============================] - 5s 14ms/step - loss: 0.0867 - accuracy: 0.9735 - val_loss: 0.1277 - val_accuracy: 0.9619\n",
      "Epoch 29/150\n",
      "334/335 [============================>.] - ETA: 0s - loss: 0.0917 - accuracy: 0.9708\n",
      "Epoch 29: val_accuracy did not improve from 0.98414\n",
      "335/335 [==============================] - 5s 14ms/step - loss: 0.0915 - accuracy: 0.9709 - val_loss: 0.0903 - val_accuracy: 0.9810\n",
      "Epoch 30/150\n",
      "331/335 [============================>.] - ETA: 0s - loss: 0.0811 - accuracy: 0.9751\n",
      "Epoch 30: val_accuracy did not improve from 0.98414\n",
      "335/335 [==============================] - 5s 14ms/step - loss: 0.0819 - accuracy: 0.9748 - val_loss: 0.1196 - val_accuracy: 0.9693\n",
      "Epoch 31/150\n",
      "335/335 [==============================] - ETA: 0s - loss: 0.0699 - accuracy: 0.9782\n",
      "Epoch 31: val_accuracy did not improve from 0.98414\n",
      "335/335 [==============================] - 5s 14ms/step - loss: 0.0699 - accuracy: 0.9782 - val_loss: 0.0886 - val_accuracy: 0.9757\n",
      "Epoch 32/150\n",
      "332/335 [============================>.] - ETA: 0s - loss: 0.0704 - accuracy: 0.9776\n",
      "Epoch 32: val_accuracy did not improve from 0.98414\n",
      "335/335 [==============================] - 5s 14ms/step - loss: 0.0699 - accuracy: 0.9778 - val_loss: 0.0905 - val_accuracy: 0.9704\n",
      "Epoch 33/150\n",
      "335/335 [==============================] - ETA: 0s - loss: 0.0708 - accuracy: 0.9763\n",
      "Epoch 33: val_accuracy did not improve from 0.98414\n",
      "335/335 [==============================] - 5s 16ms/step - loss: 0.0708 - accuracy: 0.9763 - val_loss: 0.0896 - val_accuracy: 0.9810\n",
      "-----------------EVALUATION----------------\n",
      "41/41 [==============================] - 1s 12ms/step - loss: 0.0402 - accuracy: 0.9847\n",
      "LOSS:  0.040170714259147644\n",
      "ACCURACY:  0.9846507906913757\n"
     ]
    }
   ],
   "source": [
    "# Start training\n",
    "print('--------------TRAINING CNN MODEL----------------')\n",
    "history_mlp = model_mlp.fit(processed_X_train, y_train,\n",
    "                            epochs=150,\n",
    "                            batch_size=16,\n",
    "                            validation_data=(processed_X_val, y_val),\n",
    "                            callbacks=[checkpoint, earlystopping])\n",
    "\n",
    "print('-----------------EVALUATION----------------')\n",
    "loss, accuracy = model_mlp.evaluate(processed_X_test, y_test)\n",
    "print('LOSS: ', loss)\n",
    "print(\"ACCURACY: \", accuracy)"
   ]
  },
  {
   "cell_type": "code",
   "execution_count": 17,
   "metadata": {},
   "outputs": [],
   "source": [
    "# Get the accuracy and validation accuracy from the history object\n",
    "acc = history_mlp.history['accuracy']\n",
    "val_acc = history_mlp.history['val_accuracy']\n",
    "\n",
    "# Get the loss and validation loss from the history object\n",
    "loss = history_mlp.history['loss']\n",
    "val_loss = history_mlp.history['val_loss']"
   ]
  },
  {
   "cell_type": "code",
   "execution_count": 18,
   "metadata": {},
   "outputs": [
    {
     "data": {
      "image/png": "[encoded data removed]",
      "text/plain": [
       "<Figure size 800x400 with 1 Axes>"
      ]
     },
     "metadata": {},
     "output_type": "display_data"
    }
   ],
   "source": [
    "# Plot the accuracy\n",
    "plt.figure(figsize=(8, 4))\n",
    "plt.plot(range(len(acc)), acc, label='Train Accuracy')\n",
    "plt.plot(range(len(val_acc)), val_acc, label='Validation Accuracy')\n",
    "plt.title('Training and Validation Accuracy')\n",
    "plt.xlabel('Epochs')\n",
    "plt.ylabel('Accuracy')\n",
    "plt.legend()\n",
    "plt.savefig('accuracy_plot.jpg')\n",
    "plt.show()"
   ]
  },
  {
   "cell_type": "code",
   "execution_count": 19,
   "metadata": {},
   "outputs": [
    {
     "data": {
      "image/png": "[encoded data removed]",
      "text/plain": [
       "<Figure size 800x400 with 1 Axes>"
      ]
     },
     "metadata": {},
     "output_type": "display_data"
    }
   ],
   "source": [
    "# Plot the loss\n",
    "plt.figure(figsize=(8, 4))\n",
    "plt.plot(range(len(loss)), loss, label='Train Loss')\n",
    "plt.plot(range(len(val_loss)), val_loss, label='Validation Loss')\n",
    "plt.title('Training and Validation Loss')\n",
    "plt.xlabel('Epochs')\n",
    "plt.ylabel('Loss')\n",
    "plt.legend()\n",
    "plt.savefig('loss_plot.jpg')\n",
    "plt.show()"
   ]
  },
  {
   "cell_type": "code",
   "execution_count": 20,
   "metadata": {},
   "outputs": [
    {
     "name": "stdout",
     "output_type": "stream",
     "text": [
      "tfjs model saved at  model\n"
     ]
    },
    {
     "name": "stderr",
     "output_type": "stream",
     "text": [
      "/Users/oabas/miniconda3/lib/python3.9/site-packages/keras/src/engine/training.py:3000: UserWarning: You are saving your model as an HDF5 file via `model.save()`. This file format is considered legacy. We recommend using instead the native Keras format, e.g. `model.save('my_model.keras')`.\n",
      "  saving_api.save_model(\n"
     ]
    }
   ],
   "source": [
    "# Save the model as a SavedModel\n",
    "tfjs.converters.save_keras_model(model_mlp, tfjs_model_dir)\n",
    "print('tfjs model saved at ',tfjs_model_dir)"
   ]
  },
  {
   "cell_type": "code",
   "execution_count": null,
   "metadata": {},
   "outputs": [],
   "source": []
  }
 ],
 "metadata": {
  "kernelspec": {
   "display_name": "dissertation_env",
   "language": "python",
   "name": "python3"
  },
  "language_info": {
   "codemirror_mode": {
    "name": "ipython",
    "version": 3
   },
   "file_extension": ".py",
   "mimetype": "text/x-python",
   "name": "python",
   "nbconvert_exporter": "python",
   "pygments_lexer": "ipython3",
   "version": "3.9.16"
  },
  "orig_nbformat": 4
 },
 "nbformat": 4,
 "nbformat_minor": 2
}

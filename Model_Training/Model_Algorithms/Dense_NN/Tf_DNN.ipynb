{
 "cells": [
  {
   "cell_type": "code",
   "execution_count": 2,
   "metadata": {},
   "outputs": [],
   "source": [
    "import pandas as pd\n",
    "import numpy as np\n",
    "import matplotlib.pyplot as plt\n",
    "import csv\n",
    "\n",
    "import sys\n",
    "sys.path.append('/Users/oabas/Documents/GitHub/Exercise-Pose-Detection/Codebase/model_training')\n",
    "from data import BodyPart\n",
    "\n",
    "from sklearn.model_selection import train_test_split\n",
    "from sklearn.metrics import precision_score, recall_score, f1_score\n",
    "\n",
    "import tensorflow as tf\n",
    "import tensorflowjs as tfjs\n",
    "from tensorflow import keras"
   ]
  },
  {
   "cell_type": "code",
   "execution_count": 3,
   "metadata": {},
   "outputs": [],
   "source": [
    "tfjs_model_dir = 'model'"
   ]
  },
  {
   "cell_type": "code",
   "execution_count": 4,
   "metadata": {},
   "outputs": [],
   "source": [
    "def load_csv(csv_path):\n",
    "    df = pd.read_csv(csv_path)\n",
    "    df.drop(['filename'],axis=1, inplace=True)\n",
    "    classes = df.pop('class_name').unique()\n",
    "    y = df.pop('class_no')\n",
    "\n",
    "    X = df.astype('float64')\n",
    "    y = keras.utils.to_categorical(y)\n",
    "    \n",
    "    return X, y, classes\n",
    "\n",
    "\n",
    "def get_center_point(landmarks, left_bodypart, right_bodypart):\n",
    "    left = tf.gather(landmarks, left_bodypart.value, axis=1)\n",
    "    right = tf.gather(landmarks, right_bodypart.value, axis=1)\n",
    "    center = left * 0.5 + right * 0.5\n",
    "    return center"
   ]
  },
  {
   "cell_type": "code",
   "execution_count": 5,
   "metadata": {},
   "outputs": [],
   "source": [
    "def get_pose_size(landmarks, torso_size_multiplier=2.5):\n",
    "  \n",
    "    hips_center = get_center_point(landmarks, BodyPart.LEFT_HIP, \n",
    "                                 BodyPart.RIGHT_HIP)\n",
    "\n",
    "    shoulders_center = get_center_point(landmarks, BodyPart.LEFT_SHOULDER,\n",
    "                                      BodyPart.RIGHT_SHOULDER)\n",
    "\n",
    "    # Torso size as the minimum body size\n",
    "    torso_size = tf.linalg.norm(shoulders_center - hips_center)\n",
    "    # Pose center\n",
    "    pose_center_new = get_center_point(landmarks, BodyPart.LEFT_HIP, \n",
    "                                     BodyPart.RIGHT_HIP)\n",
    "    pose_center_new = tf.expand_dims(pose_center_new, axis=1)\n",
    "    # Broadcast the pose center to the same size as the landmark vector to\n",
    "    # perform substraction\n",
    "    pose_center_new = tf.broadcast_to(pose_center_new,\n",
    "                                    [tf.size(landmarks) // (17*2), 17, 2])\n",
    "\n",
    "    # Dist to pose center\n",
    "    d = tf.gather(landmarks - pose_center_new, 0, axis=0,\n",
    "                name=\"dist_to_pose_center\")\n",
    "    # Max dist to pose center\n",
    "    max_dist = tf.reduce_max(tf.linalg.norm(d, axis=0))\n",
    "\n",
    "    # Normalize scale\n",
    "    pose_size = tf.maximum(torso_size * torso_size_multiplier, max_dist)\n",
    "    return pose_size"
   ]
  },
  {
   "cell_type": "code",
   "execution_count": 6,
   "metadata": {},
   "outputs": [],
   "source": [
    "def normalize_pose_landmarks(landmarks):\n",
    "    \"\"\"Normalizes the landmarks translation by moving the pose center to (0,0) and\n",
    "    scaling it to a constant pose size.\n",
    "  \"\"\"\n",
    "  # Move landmarks so that the pose center becomes (0,0)\n",
    "    pose_center = get_center_point(landmarks, BodyPart.LEFT_HIP, \n",
    "                                 BodyPart.RIGHT_HIP)\n",
    "\n",
    "    pose_center = tf.expand_dims(pose_center, axis=1)\n",
    "    # Broadcast the pose center to the same size as the landmark vector to perform\n",
    "    # substraction\n",
    "    pose_center = tf.broadcast_to(pose_center, \n",
    "                                [tf.size(landmarks) // (17*2), 17, 2])\n",
    "    landmarks = landmarks - pose_center\n",
    "\n",
    "    # Scale the landmarks to a constant pose size\n",
    "    pose_size = get_pose_size(landmarks)\n",
    "    landmarks /= pose_size\n",
    "    return landmarks"
   ]
  },
  {
   "cell_type": "code",
   "execution_count": 7,
   "metadata": {},
   "outputs": [],
   "source": [
    "def landmarks_to_embedding(landmarks_and_scores):\n",
    "    \"\"\"Converts the input landmarks into a pose embedding.\"\"\"\n",
    "    # Reshape the flat input into a matrix with shape=(17, 3)\n",
    "    reshaped_inputs = keras.layers.Reshape((17, 3))(landmarks_and_scores)\n",
    "\n",
    "    # Normalize landmarks 2D\n",
    "    landmarks = normalize_pose_landmarks(reshaped_inputs[:, :, :2])\n",
    "    # Flatten the normalized landmark coordinates into a vector\n",
    "    embedding = keras.layers.Flatten()(landmarks)\n",
    "    return embedding"
   ]
  },
  {
   "cell_type": "code",
   "execution_count": 8,
   "metadata": {},
   "outputs": [],
   "source": [
    "def preprocess_data(X_train):\n",
    "    processed_X_train = []\n",
    "    for i in range(X_train.shape[0]):\n",
    "        embedding = landmarks_to_embedding(tf.reshape(tf.convert_to_tensor(X_train.iloc[i]), (1, 51)))\n",
    "        processed_X_train.append(tf.reshape(embedding, (34)))\n",
    "    return tf.convert_to_tensor(processed_X_train)"
   ]
  },
  {
   "cell_type": "code",
   "execution_count": 9,
   "metadata": {},
   "outputs": [],
   "source": [
    "X, y, class_names = load_csv('../../../Data/model_data/train_data.csv')\n",
    "X_train, X_val, y_train, y_val = train_test_split(X, y, test_size=0.15)\n",
    "X_test, y_test, _ = load_csv('../../../Data/model_data/test_data.csv')\n",
    "num_classes = len(class_names)"
   ]
  },
  {
   "cell_type": "code",
   "execution_count": 10,
   "metadata": {},
   "outputs": [
    {
     "name": "stdout",
     "output_type": "stream",
     "text": [
      "Metal device set to: Apple M2\n",
      "\n",
      "systemMemory: 8.00 GB\n",
      "maxCacheSize: 2.67 GB\n",
      "\n"
     ]
    }
   ],
   "source": [
    "processed_X_train = preprocess_data(X_train)\n",
    "processed_X_val =  preprocess_data(X_val)\n",
    "processed_X_test = preprocess_data(X_test)"
   ]
  },
  {
   "cell_type": "code",
   "execution_count": 11,
   "metadata": {},
   "outputs": [
    {
     "name": "stdout",
     "output_type": "stream",
     "text": [
      "Shape of processed_X_train: (5357, 34)\n",
      "Shape of processed_X_val: (946, 34)\n",
      "Shape of processed_X_test: (1303, 34)\n"
     ]
    }
   ],
   "source": [
    "print(\"Shape of processed_X_train:\", processed_X_train.shape)\n",
    "print(\"Shape of processed_X_val:\", processed_X_val.shape)\n",
    "print(\"Shape of processed_X_test:\", processed_X_test.shape)"
   ]
  },
  {
   "cell_type": "code",
   "execution_count": 12,
   "metadata": {},
   "outputs": [
    {
     "name": "stdout",
     "output_type": "stream",
     "text": [
      "Shape of y_train: (5357, 13)\n",
      "Shape of y_val: (946, 13)\n",
      "Shape of y_test: (1303, 13)\n"
     ]
    }
   ],
   "source": [
    "print(\"Shape of y_train:\", y_train.shape)\n",
    "print(\"Shape of y_val:\", y_val.shape)\n",
    "print(\"Shape of y_test:\", y_test.shape)"
   ]
  },
  {
   "cell_type": "code",
   "execution_count": 13,
   "metadata": {},
   "outputs": [],
   "source": [
    "# DNN model\n",
    "inputs = keras.Input(shape=(34,)) \n",
    "\n",
    "# Hidden layers\n",
    "layer = keras.layers.Dense(128, activation=tf.nn.relu6)(inputs)\n",
    "layer = keras.layers.Dropout(0.5)(layer)\n",
    "layer = keras.layers.Dense(64, activation=tf.nn.relu6)(layer)\n",
    "layer = keras.layers.Dropout(0.5)(layer)\n",
    "\n",
    "# Output layer\n",
    "outputs = keras.layers.Dense(num_classes, activation='softmax')(layer)"
   ]
  },
  {
   "cell_type": "code",
   "execution_count": 14,
   "metadata": {},
   "outputs": [],
   "source": [
    "model = keras.Model(inputs, outputs)\n",
    "\n",
    "# Compile\n",
    "model.compile(\n",
    "    optimizer='adam',\n",
    "    loss='categorical_crossentropy',\n",
    "    metrics=['accuracy']\n",
    ")"
   ]
  },
  {
   "cell_type": "code",
   "execution_count": 15,
   "metadata": {},
   "outputs": [],
   "source": [
    "# Add a checkpoint callback to store the checkpoint that has the highest validation accuracy.\n",
    "checkpoint_path = \"mobilenet_1_0_224_tf.h5\"\n",
    "checkpoint = keras.callbacks.ModelCheckpoint(checkpoint_path,\n",
    "                                             monitor='val_accuracy',\n",
    "                                             verbose=1,\n",
    "                                             save_best_only=True,\n",
    "                                             mode='max')\n",
    "earlystopping = keras.callbacks.EarlyStopping(monitor='val_accuracy', \n",
    "                                              patience=20)"
   ]
  },
  {
   "cell_type": "code",
   "execution_count": 16,
   "metadata": {},
   "outputs": [
    {
     "name": "stdout",
     "output_type": "stream",
     "text": [
      "--------------TRAINING----------------\n",
      "Epoch 1/150\n",
      "335/335 [==============================] - ETA: 0s - loss: 1.5150 - accuracy: 0.5292\n",
      "Epoch 1: val_accuracy improved from -inf to 0.69450, saving model to mobilenet_1_0_224_tf.h5\n",
      "335/335 [==============================] - 5s 15ms/step - loss: 1.5150 - accuracy: 0.5292 - val_loss: 0.9535 - val_accuracy: 0.6945\n",
      "Epoch 2/150\n",
      "  9/335 [..............................] - ETA: 4s - loss: 1.0414 - accuracy: 0.6736"
     ]
    },
    {
     "name": "stderr",
     "output_type": "stream",
     "text": [
      "/Users/oabas/miniconda3/lib/python3.9/site-packages/keras/src/engine/training.py:3000: UserWarning: You are saving your model as an HDF5 file via `model.save()`. This file format is considered legacy. We recommend using instead the native Keras format, e.g. `model.save('my_model.keras')`.\n",
      "  saving_api.save_model(\n"
     ]
    },
    {
     "name": "stdout",
     "output_type": "stream",
     "text": [
      "332/335 [============================>.] - ETA: 0s - loss: 0.8581 - accuracy: 0.7076\n",
      "Epoch 2: val_accuracy improved from 0.69450 to 0.76110, saving model to mobilenet_1_0_224_tf.h5\n",
      "335/335 [==============================] - 5s 14ms/step - loss: 0.8546 - accuracy: 0.7090 - val_loss: 0.7025 - val_accuracy: 0.7611\n",
      "Epoch 3/150\n",
      "333/335 [============================>.] - ETA: 0s - loss: 0.6543 - accuracy: 0.7695\n",
      "Epoch 3: val_accuracy improved from 0.76110 to 0.78436, saving model to mobilenet_1_0_224_tf.h5\n",
      "335/335 [==============================] - 5s 14ms/step - loss: 0.6539 - accuracy: 0.7700 - val_loss: 0.5977 - val_accuracy: 0.7844\n",
      "Epoch 4/150\n",
      "332/335 [============================>.] - ETA: 0s - loss: 0.5462 - accuracy: 0.8072\n",
      "Epoch 4: val_accuracy improved from 0.78436 to 0.82664, saving model to mobilenet_1_0_224_tf.h5\n",
      "335/335 [==============================] - 5s 14ms/step - loss: 0.5459 - accuracy: 0.8074 - val_loss: 0.5036 - val_accuracy: 0.8266\n",
      "Epoch 5/150\n",
      "334/335 [============================>.] - ETA: 0s - loss: 0.4826 - accuracy: 0.8342\n",
      "Epoch 5: val_accuracy improved from 0.82664 to 0.86047, saving model to mobilenet_1_0_224_tf.h5\n",
      "335/335 [==============================] - 5s 15ms/step - loss: 0.4829 - accuracy: 0.8340 - val_loss: 0.4364 - val_accuracy: 0.8605\n",
      "Epoch 6/150\n",
      "334/335 [============================>.] - ETA: 0s - loss: 0.4187 - accuracy: 0.8565\n",
      "Epoch 6: val_accuracy did not improve from 0.86047\n",
      "335/335 [==============================] - 5s 14ms/step - loss: 0.4181 - accuracy: 0.8568 - val_loss: 0.4373 - val_accuracy: 0.8108\n",
      "Epoch 7/150\n",
      "334/335 [============================>.] - ETA: 0s - loss: 0.3781 - accuracy: 0.8756\n",
      "Epoch 7: val_accuracy improved from 0.86047 to 0.87526, saving model to mobilenet_1_0_224_tf.h5\n",
      "335/335 [==============================] - 5s 14ms/step - loss: 0.3785 - accuracy: 0.8757 - val_loss: 0.3667 - val_accuracy: 0.8753\n",
      "Epoch 8/150\n",
      "334/335 [============================>.] - ETA: 0s - loss: 0.3397 - accuracy: 0.8894\n",
      "Epoch 8: val_accuracy did not improve from 0.87526\n",
      "335/335 [==============================] - 5s 14ms/step - loss: 0.3405 - accuracy: 0.8889 - val_loss: 0.3728 - val_accuracy: 0.8510\n",
      "Epoch 9/150\n",
      "332/335 [============================>.] - ETA: 0s - loss: 0.3207 - accuracy: 0.8959\n",
      "Epoch 9: val_accuracy improved from 0.87526 to 0.88055, saving model to mobilenet_1_0_224_tf.h5\n",
      "335/335 [==============================] - 5s 14ms/step - loss: 0.3205 - accuracy: 0.8960 - val_loss: 0.3254 - val_accuracy: 0.8805\n",
      "Epoch 10/150\n",
      "334/335 [============================>.] - ETA: 0s - loss: 0.2964 - accuracy: 0.9034\n",
      "Epoch 10: val_accuracy improved from 0.88055 to 0.88161, saving model to mobilenet_1_0_224_tf.h5\n",
      "335/335 [==============================] - 4s 13ms/step - loss: 0.2969 - accuracy: 0.9035 - val_loss: 0.3135 - val_accuracy: 0.8816\n",
      "Epoch 11/150\n",
      "334/335 [============================>.] - ETA: 0s - loss: 0.2695 - accuracy: 0.9154\n",
      "Epoch 11: val_accuracy improved from 0.88161 to 0.90592, saving model to mobilenet_1_0_224_tf.h5\n",
      "335/335 [==============================] - 4s 13ms/step - loss: 0.2693 - accuracy: 0.9154 - val_loss: 0.2762 - val_accuracy: 0.9059\n",
      "Epoch 12/150\n",
      "332/335 [============================>.] - ETA: 0s - loss: 0.2539 - accuracy: 0.9175\n",
      "Epoch 12: val_accuracy did not improve from 0.90592\n",
      "335/335 [==============================] - 4s 13ms/step - loss: 0.2542 - accuracy: 0.9177 - val_loss: 0.2674 - val_accuracy: 0.9038\n",
      "Epoch 13/150\n",
      "333/335 [============================>.] - ETA: 0s - loss: 0.2429 - accuracy: 0.9240\n",
      "Epoch 13: val_accuracy did not improve from 0.90592\n",
      "335/335 [==============================] - 4s 13ms/step - loss: 0.2425 - accuracy: 0.9240 - val_loss: 0.2609 - val_accuracy: 0.9006\n",
      "Epoch 14/150\n",
      "332/335 [============================>.] - ETA: 0s - loss: 0.2301 - accuracy: 0.9279\n",
      "Epoch 14: val_accuracy improved from 0.90592 to 0.92072, saving model to mobilenet_1_0_224_tf.h5\n",
      "335/335 [==============================] - 4s 13ms/step - loss: 0.2292 - accuracy: 0.9283 - val_loss: 0.2390 - val_accuracy: 0.9207\n",
      "Epoch 15/150\n",
      "333/335 [============================>.] - ETA: 0s - loss: 0.2172 - accuracy: 0.9274\n",
      "Epoch 15: val_accuracy improved from 0.92072 to 0.94080, saving model to mobilenet_1_0_224_tf.h5\n",
      "335/335 [==============================] - 5s 13ms/step - loss: 0.2175 - accuracy: 0.9274 - val_loss: 0.2038 - val_accuracy: 0.9408\n",
      "Epoch 16/150\n",
      "332/335 [============================>.] - ETA: 0s - loss: 0.2074 - accuracy: 0.9319\n",
      "Epoch 16: val_accuracy did not improve from 0.94080\n",
      "335/335 [==============================] - 4s 13ms/step - loss: 0.2064 - accuracy: 0.9324 - val_loss: 0.2052 - val_accuracy: 0.9323\n",
      "Epoch 17/150\n",
      "333/335 [============================>.] - ETA: 0s - loss: 0.1945 - accuracy: 0.9347\n",
      "Epoch 17: val_accuracy did not improve from 0.94080\n",
      "335/335 [==============================] - 4s 13ms/step - loss: 0.1940 - accuracy: 0.9350 - val_loss: 0.2015 - val_accuracy: 0.9345\n",
      "Epoch 18/150\n",
      "333/335 [============================>.] - ETA: 0s - loss: 0.1811 - accuracy: 0.9396\n",
      "Epoch 18: val_accuracy did not improve from 0.94080\n",
      "335/335 [==============================] - 5s 15ms/step - loss: 0.1808 - accuracy: 0.9395 - val_loss: 0.1813 - val_accuracy: 0.9334\n",
      "Epoch 19/150\n",
      "333/335 [============================>.] - ETA: 0s - loss: 0.1751 - accuracy: 0.9392\n",
      "Epoch 19: val_accuracy improved from 0.94080 to 0.94820, saving model to mobilenet_1_0_224_tf.h5\n",
      "335/335 [==============================] - 5s 14ms/step - loss: 0.1745 - accuracy: 0.9395 - val_loss: 0.1714 - val_accuracy: 0.9482\n",
      "Epoch 20/150\n",
      "333/335 [============================>.] - ETA: 0s - loss: 0.1665 - accuracy: 0.9454\n",
      "Epoch 20: val_accuracy did not improve from 0.94820\n",
      "335/335 [==============================] - 5s 15ms/step - loss: 0.1662 - accuracy: 0.9455 - val_loss: 0.1864 - val_accuracy: 0.9323\n",
      "Epoch 21/150\n",
      "335/335 [==============================] - ETA: 0s - loss: 0.1622 - accuracy: 0.9444\n",
      "Epoch 21: val_accuracy did not improve from 0.94820\n",
      "335/335 [==============================] - 6s 17ms/step - loss: 0.1622 - accuracy: 0.9444 - val_loss: 0.1747 - val_accuracy: 0.9355\n",
      "Epoch 22/150\n",
      "331/335 [============================>.] - ETA: 0s - loss: 0.1574 - accuracy: 0.9458\n",
      "Epoch 22: val_accuracy improved from 0.94820 to 0.95349, saving model to mobilenet_1_0_224_tf.h5\n",
      "335/335 [==============================] - 6s 19ms/step - loss: 0.1569 - accuracy: 0.9457 - val_loss: 0.1559 - val_accuracy: 0.9535\n",
      "Epoch 23/150\n",
      "333/335 [============================>.] - ETA: 0s - loss: 0.1452 - accuracy: 0.9505\n",
      "Epoch 23: val_accuracy improved from 0.95349 to 0.95666, saving model to mobilenet_1_0_224_tf.h5\n",
      "335/335 [==============================] - 5s 16ms/step - loss: 0.1453 - accuracy: 0.9502 - val_loss: 0.1597 - val_accuracy: 0.9567\n",
      "Epoch 24/150\n",
      "334/335 [============================>.] - ETA: 0s - loss: 0.1452 - accuracy: 0.9542\n",
      "Epoch 24: val_accuracy did not improve from 0.95666\n",
      "335/335 [==============================] - 6s 17ms/step - loss: 0.1453 - accuracy: 0.9541 - val_loss: 0.1921 - val_accuracy: 0.9207\n",
      "Epoch 25/150\n",
      "332/335 [============================>.] - ETA: 0s - loss: 0.1423 - accuracy: 0.9559\n",
      "Epoch 25: val_accuracy did not improve from 0.95666\n",
      "335/335 [==============================] - 5s 14ms/step - loss: 0.1418 - accuracy: 0.9561 - val_loss: 0.1364 - val_accuracy: 0.9493\n",
      "Epoch 26/150\n",
      "335/335 [==============================] - ETA: 0s - loss: 0.1368 - accuracy: 0.9539\n",
      "Epoch 26: val_accuracy improved from 0.95666 to 0.95983, saving model to mobilenet_1_0_224_tf.h5\n",
      "335/335 [==============================] - 5s 14ms/step - loss: 0.1368 - accuracy: 0.9539 - val_loss: 0.1392 - val_accuracy: 0.9598\n",
      "Epoch 27/150\n",
      "335/335 [==============================] - ETA: 0s - loss: 0.1312 - accuracy: 0.9591\n",
      "Epoch 27: val_accuracy did not improve from 0.95983\n",
      "335/335 [==============================] - 5s 14ms/step - loss: 0.1312 - accuracy: 0.9591 - val_loss: 0.1479 - val_accuracy: 0.9524\n",
      "Epoch 28/150\n",
      "334/335 [============================>.] - ETA: 0s - loss: 0.1256 - accuracy: 0.9600\n",
      "Epoch 28: val_accuracy improved from 0.95983 to 0.97357, saving model to mobilenet_1_0_224_tf.h5\n",
      "335/335 [==============================] - 5s 13ms/step - loss: 0.1255 - accuracy: 0.9599 - val_loss: 0.1169 - val_accuracy: 0.9736\n",
      "Epoch 29/150\n",
      "332/335 [============================>.] - ETA: 0s - loss: 0.1171 - accuracy: 0.9637\n",
      "Epoch 29: val_accuracy did not improve from 0.97357\n",
      "335/335 [==============================] - 4s 13ms/step - loss: 0.1169 - accuracy: 0.9640 - val_loss: 0.1145 - val_accuracy: 0.9736\n",
      "Epoch 30/150\n",
      "332/335 [============================>.] - ETA: 0s - loss: 0.1194 - accuracy: 0.9603\n",
      "Epoch 30: val_accuracy did not improve from 0.97357\n",
      "335/335 [==============================] - 4s 13ms/step - loss: 0.1195 - accuracy: 0.9602 - val_loss: 0.1373 - val_accuracy: 0.9503\n",
      "Epoch 31/150\n",
      "335/335 [==============================] - ETA: 0s - loss: 0.1161 - accuracy: 0.9610\n",
      "Epoch 31: val_accuracy did not improve from 0.97357\n",
      "335/335 [==============================] - 5s 15ms/step - loss: 0.1161 - accuracy: 0.9610 - val_loss: 0.1212 - val_accuracy: 0.9693\n",
      "Epoch 32/150\n",
      "335/335 [==============================] - ETA: 0s - loss: 0.1174 - accuracy: 0.9621\n",
      "Epoch 32: val_accuracy did not improve from 0.97357\n",
      "335/335 [==============================] - 5s 14ms/step - loss: 0.1174 - accuracy: 0.9621 - val_loss: 0.1220 - val_accuracy: 0.9651\n",
      "Epoch 33/150\n",
      "332/335 [============================>.] - ETA: 0s - loss: 0.1083 - accuracy: 0.9657\n",
      "Epoch 33: val_accuracy did not improve from 0.97357\n",
      "335/335 [==============================] - 5s 15ms/step - loss: 0.1091 - accuracy: 0.9658 - val_loss: 0.1241 - val_accuracy: 0.9651\n",
      "Epoch 34/150\n",
      "335/335 [==============================] - ETA: 0s - loss: 0.1009 - accuracy: 0.9677\n",
      "Epoch 34: val_accuracy did not improve from 0.97357\n",
      "335/335 [==============================] - 6s 18ms/step - loss: 0.1009 - accuracy: 0.9677 - val_loss: 0.1131 - val_accuracy: 0.9736\n",
      "Epoch 35/150\n",
      "332/335 [============================>.] - ETA: 0s - loss: 0.1139 - accuracy: 0.9608\n",
      "Epoch 35: val_accuracy did not improve from 0.97357\n",
      "335/335 [==============================] - 5s 15ms/step - loss: 0.1130 - accuracy: 0.9612 - val_loss: 0.1339 - val_accuracy: 0.9493\n",
      "Epoch 36/150\n",
      "335/335 [==============================] - ETA: 0s - loss: 0.1027 - accuracy: 0.9670\n",
      "Epoch 36: val_accuracy did not improve from 0.97357\n",
      "335/335 [==============================] - 5s 15ms/step - loss: 0.1027 - accuracy: 0.9670 - val_loss: 0.1075 - val_accuracy: 0.9704\n",
      "Epoch 37/150\n",
      "335/335 [==============================] - ETA: 0s - loss: 0.1004 - accuracy: 0.9673\n",
      "Epoch 37: val_accuracy did not improve from 0.97357\n",
      "335/335 [==============================] - 5s 16ms/step - loss: 0.1004 - accuracy: 0.9673 - val_loss: 0.1134 - val_accuracy: 0.9545\n",
      "Epoch 38/150\n",
      "333/335 [============================>.] - ETA: 0s - loss: 0.0968 - accuracy: 0.9705\n",
      "Epoch 38: val_accuracy did not improve from 0.97357\n",
      "335/335 [==============================] - 6s 17ms/step - loss: 0.0971 - accuracy: 0.9701 - val_loss: 0.0972 - val_accuracy: 0.9725\n",
      "Epoch 39/150\n",
      "334/335 [============================>.] - ETA: 0s - loss: 0.0994 - accuracy: 0.9644\n",
      "Epoch 39: val_accuracy did not improve from 0.97357\n",
      "335/335 [==============================] - 5s 15ms/step - loss: 0.0994 - accuracy: 0.9643 - val_loss: 0.1020 - val_accuracy: 0.9651\n",
      "Epoch 40/150\n",
      "332/335 [============================>.] - ETA: 0s - loss: 0.0922 - accuracy: 0.9720\n",
      "Epoch 40: val_accuracy did not improve from 0.97357\n",
      "335/335 [==============================] - 7s 20ms/step - loss: 0.0918 - accuracy: 0.9720 - val_loss: 0.1154 - val_accuracy: 0.9630\n",
      "Epoch 41/150\n",
      "333/335 [============================>.] - ETA: 0s - loss: 0.0946 - accuracy: 0.9687\n",
      "Epoch 41: val_accuracy did not improve from 0.97357\n",
      "335/335 [==============================] - 6s 17ms/step - loss: 0.0951 - accuracy: 0.9685 - val_loss: 0.1024 - val_accuracy: 0.9641\n",
      "Epoch 42/150\n",
      "334/335 [============================>.] - ETA: 0s - loss: 0.0891 - accuracy: 0.9706\n",
      "Epoch 42: val_accuracy did not improve from 0.97357\n",
      "335/335 [==============================] - 8s 24ms/step - loss: 0.0890 - accuracy: 0.9707 - val_loss: 0.0882 - val_accuracy: 0.9715\n",
      "Epoch 43/150\n",
      "334/335 [============================>.] - ETA: 0s - loss: 0.0945 - accuracy: 0.9702\n",
      "Epoch 43: val_accuracy did not improve from 0.97357\n",
      "335/335 [==============================] - 5s 16ms/step - loss: 0.0945 - accuracy: 0.9703 - val_loss: 0.0907 - val_accuracy: 0.9736\n",
      "Epoch 44/150\n",
      "335/335 [==============================] - ETA: 0s - loss: 0.0911 - accuracy: 0.9705\n",
      "Epoch 44: val_accuracy did not improve from 0.97357\n",
      "335/335 [==============================] - 8s 24ms/step - loss: 0.0911 - accuracy: 0.9705 - val_loss: 0.0951 - val_accuracy: 0.9736\n",
      "Epoch 45/150\n",
      "334/335 [============================>.] - ETA: 0s - loss: 0.0879 - accuracy: 0.9734\n",
      "Epoch 45: val_accuracy improved from 0.97357 to 0.97992, saving model to mobilenet_1_0_224_tf.h5\n",
      "335/335 [==============================] - 5s 15ms/step - loss: 0.0878 - accuracy: 0.9735 - val_loss: 0.0824 - val_accuracy: 0.9799\n",
      "Epoch 46/150\n",
      "332/335 [============================>.] - ETA: 0s - loss: 0.0851 - accuracy: 0.9753\n",
      "Epoch 46: val_accuracy did not improve from 0.97992\n",
      "335/335 [==============================] - 6s 19ms/step - loss: 0.0848 - accuracy: 0.9754 - val_loss: 0.1033 - val_accuracy: 0.9619\n",
      "Epoch 47/150\n",
      "333/335 [============================>.] - ETA: 0s - loss: 0.0832 - accuracy: 0.9745\n",
      "Epoch 47: val_accuracy did not improve from 0.97992\n",
      "335/335 [==============================] - 6s 18ms/step - loss: 0.0833 - accuracy: 0.9744 - val_loss: 0.0875 - val_accuracy: 0.9693\n",
      "Epoch 48/150\n",
      "332/335 [============================>.] - ETA: 0s - loss: 0.0779 - accuracy: 0.9736\n",
      "Epoch 48: val_accuracy did not improve from 0.97992\n",
      "335/335 [==============================] - 9s 26ms/step - loss: 0.0781 - accuracy: 0.9735 - val_loss: 0.1106 - val_accuracy: 0.9588\n",
      "Epoch 49/150\n",
      "331/335 [============================>.] - ETA: 0s - loss: 0.0802 - accuracy: 0.9753\n",
      "Epoch 49: val_accuracy did not improve from 0.97992\n",
      "335/335 [==============================] - 5s 15ms/step - loss: 0.0806 - accuracy: 0.9752 - val_loss: 0.1233 - val_accuracy: 0.9503\n",
      "Epoch 50/150\n",
      "334/335 [============================>.] - ETA: 0s - loss: 0.0868 - accuracy: 0.9702\n",
      "Epoch 50: val_accuracy did not improve from 0.97992\n",
      "335/335 [==============================] - 5s 14ms/step - loss: 0.0868 - accuracy: 0.9703 - val_loss: 0.0782 - val_accuracy: 0.9736\n",
      "Epoch 51/150\n",
      "334/335 [============================>.] - ETA: 0s - loss: 0.0767 - accuracy: 0.9770\n",
      "Epoch 51: val_accuracy did not improve from 0.97992\n",
      "335/335 [==============================] - 5s 14ms/step - loss: 0.0765 - accuracy: 0.9770 - val_loss: 0.0819 - val_accuracy: 0.9725\n",
      "Epoch 52/150\n",
      "334/335 [============================>.] - ETA: 0s - loss: 0.0775 - accuracy: 0.9746\n",
      "Epoch 52: val_accuracy did not improve from 0.97992\n",
      "335/335 [==============================] - 5s 14ms/step - loss: 0.0780 - accuracy: 0.9744 - val_loss: 0.0749 - val_accuracy: 0.9767\n",
      "Epoch 53/150\n",
      "335/335 [==============================] - ETA: 0s - loss: 0.0731 - accuracy: 0.9763\n",
      "Epoch 53: val_accuracy improved from 0.97992 to 0.98309, saving model to mobilenet_1_0_224_tf.h5\n",
      "335/335 [==============================] - 5s 15ms/step - loss: 0.0731 - accuracy: 0.9763 - val_loss: 0.0647 - val_accuracy: 0.9831\n",
      "Epoch 54/150\n",
      "335/335 [==============================] - ETA: 0s - loss: 0.0717 - accuracy: 0.9763\n",
      "Epoch 54: val_accuracy did not improve from 0.98309\n",
      "335/335 [==============================] - 6s 17ms/step - loss: 0.0717 - accuracy: 0.9763 - val_loss: 0.1046 - val_accuracy: 0.9609\n",
      "Epoch 55/150\n",
      "333/335 [============================>.] - ETA: 0s - loss: 0.0774 - accuracy: 0.9732\n",
      "Epoch 55: val_accuracy did not improve from 0.98309\n",
      "335/335 [==============================] - 6s 17ms/step - loss: 0.0777 - accuracy: 0.9731 - val_loss: 0.0844 - val_accuracy: 0.9725\n",
      "Epoch 56/150\n",
      "335/335 [==============================] - ETA: 0s - loss: 0.0743 - accuracy: 0.9752\n",
      "Epoch 56: val_accuracy did not improve from 0.98309\n",
      "335/335 [==============================] - 6s 17ms/step - loss: 0.0743 - accuracy: 0.9752 - val_loss: 0.0848 - val_accuracy: 0.9693\n",
      "Epoch 57/150\n",
      "331/335 [============================>.] - ETA: 0s - loss: 0.0646 - accuracy: 0.9807\n",
      "Epoch 57: val_accuracy did not improve from 0.98309\n",
      "335/335 [==============================] - 4s 13ms/step - loss: 0.0675 - accuracy: 0.9800 - val_loss: 0.0998 - val_accuracy: 0.9641\n",
      "Epoch 58/150\n",
      "335/335 [==============================] - ETA: 0s - loss: 0.0723 - accuracy: 0.9765\n",
      "Epoch 58: val_accuracy did not improve from 0.98309\n",
      "335/335 [==============================] - 5s 14ms/step - loss: 0.0723 - accuracy: 0.9765 - val_loss: 0.0851 - val_accuracy: 0.9693\n",
      "Epoch 59/150\n",
      "335/335 [==============================] - ETA: 0s - loss: 0.0668 - accuracy: 0.9778\n",
      "Epoch 59: val_accuracy did not improve from 0.98309\n",
      "335/335 [==============================] - 7s 21ms/step - loss: 0.0668 - accuracy: 0.9778 - val_loss: 0.0717 - val_accuracy: 0.9757\n",
      "Epoch 60/150\n",
      "334/335 [============================>.] - ETA: 0s - loss: 0.0695 - accuracy: 0.9779\n",
      "Epoch 60: val_accuracy did not improve from 0.98309\n",
      "335/335 [==============================] - 5s 15ms/step - loss: 0.0694 - accuracy: 0.9780 - val_loss: 0.1258 - val_accuracy: 0.9598\n",
      "Epoch 61/150\n",
      "332/335 [============================>.] - ETA: 0s - loss: 0.0682 - accuracy: 0.9797\n",
      "Epoch 61: val_accuracy did not improve from 0.98309\n",
      "335/335 [==============================] - 5s 13ms/step - loss: 0.0681 - accuracy: 0.9797 - val_loss: 0.1234 - val_accuracy: 0.9588\n",
      "Epoch 62/150\n",
      "334/335 [============================>.] - ETA: 0s - loss: 0.0681 - accuracy: 0.9785\n",
      "Epoch 62: val_accuracy did not improve from 0.98309\n",
      "335/335 [==============================] - 5s 14ms/step - loss: 0.0680 - accuracy: 0.9785 - val_loss: 0.0796 - val_accuracy: 0.9725\n",
      "Epoch 63/150\n",
      "332/335 [============================>.] - ETA: 0s - loss: 0.0669 - accuracy: 0.9784\n",
      "Epoch 63: val_accuracy did not improve from 0.98309\n",
      "335/335 [==============================] - 4s 13ms/step - loss: 0.0670 - accuracy: 0.9782 - val_loss: 0.1159 - val_accuracy: 0.9514\n",
      "Epoch 64/150\n",
      "331/335 [============================>.] - ETA: 0s - loss: 0.0624 - accuracy: 0.9821\n",
      "Epoch 64: val_accuracy did not improve from 0.98309\n",
      "335/335 [==============================] - 5s 14ms/step - loss: 0.0618 - accuracy: 0.9823 - val_loss: 0.0761 - val_accuracy: 0.9736\n",
      "Epoch 65/150\n",
      "332/335 [============================>.] - ETA: 0s - loss: 0.0706 - accuracy: 0.9761\n",
      "Epoch 65: val_accuracy did not improve from 0.98309\n",
      "335/335 [==============================] - 5s 13ms/step - loss: 0.0707 - accuracy: 0.9759 - val_loss: 0.0947 - val_accuracy: 0.9715\n",
      "Epoch 66/150\n",
      "333/335 [============================>.] - ETA: 0s - loss: 0.0579 - accuracy: 0.9835\n",
      "Epoch 66: val_accuracy did not improve from 0.98309\n",
      "335/335 [==============================] - 5s 15ms/step - loss: 0.0577 - accuracy: 0.9836 - val_loss: 0.0983 - val_accuracy: 0.9619\n",
      "Epoch 67/150\n",
      "333/335 [============================>.] - ETA: 0s - loss: 0.0623 - accuracy: 0.9794\n",
      "Epoch 67: val_accuracy did not improve from 0.98309\n",
      "335/335 [==============================] - 5s 16ms/step - loss: 0.0621 - accuracy: 0.9795 - val_loss: 0.0746 - val_accuracy: 0.9778\n",
      "Epoch 68/150\n",
      "335/335 [==============================] - ETA: 0s - loss: 0.0578 - accuracy: 0.9804\n",
      "Epoch 68: val_accuracy did not improve from 0.98309\n",
      "335/335 [==============================] - 5s 14ms/step - loss: 0.0578 - accuracy: 0.9804 - val_loss: 0.0854 - val_accuracy: 0.9757\n",
      "Epoch 69/150\n",
      "333/335 [============================>.] - ETA: 0s - loss: 0.0679 - accuracy: 0.9801\n",
      "Epoch 69: val_accuracy did not improve from 0.98309\n",
      "335/335 [==============================] - 5s 15ms/step - loss: 0.0676 - accuracy: 0.9802 - val_loss: 0.0612 - val_accuracy: 0.9799\n",
      "Epoch 70/150\n",
      "335/335 [==============================] - ETA: 0s - loss: 0.0637 - accuracy: 0.9811\n",
      "Epoch 70: val_accuracy did not improve from 0.98309\n",
      "335/335 [==============================] - 5s 14ms/step - loss: 0.0637 - accuracy: 0.9811 - val_loss: 0.0848 - val_accuracy: 0.9683\n",
      "Epoch 71/150\n",
      "334/335 [============================>.] - ETA: 0s - loss: 0.0613 - accuracy: 0.9807\n",
      "Epoch 71: val_accuracy did not improve from 0.98309\n",
      "335/335 [==============================] - 6s 19ms/step - loss: 0.0613 - accuracy: 0.9808 - val_loss: 0.0578 - val_accuracy: 0.9789\n",
      "Epoch 72/150\n",
      "335/335 [==============================] - ETA: 0s - loss: 0.0589 - accuracy: 0.9813\n",
      "Epoch 72: val_accuracy did not improve from 0.98309\n",
      "335/335 [==============================] - 6s 18ms/step - loss: 0.0589 - accuracy: 0.9813 - val_loss: 0.0839 - val_accuracy: 0.9662\n",
      "Epoch 73/150\n",
      "333/335 [============================>.] - ETA: 0s - loss: 0.0562 - accuracy: 0.9805\n",
      "Epoch 73: val_accuracy did not improve from 0.98309\n",
      "335/335 [==============================] - 5s 13ms/step - loss: 0.0571 - accuracy: 0.9802 - val_loss: 0.0781 - val_accuracy: 0.9736\n",
      "-----------------EVAUATION----------------\n",
      "41/41 [==============================] - 0s 10ms/step - loss: 0.0676 - accuracy: 0.9785\n",
      "LOSS:  0.06759728491306305\n",
      "ACCURACY:  0.9785111546516418\n"
     ]
    }
   ],
   "source": [
    "# Start training\n",
    "print('--------------TRAINING----------------')\n",
    "history = model.fit(processed_X_train, y_train,\n",
    "                    epochs=150,\n",
    "                    batch_size=16,\n",
    "                    validation_data=(processed_X_val, y_val),\n",
    "                    callbacks=[checkpoint, earlystopping])\n",
    "\n",
    "print('-----------------EVAUATION----------------')\n",
    "loss, accuracy = model.evaluate(processed_X_test, y_test)\n",
    "print('LOSS: ', loss)\n",
    "print(\"ACCURACY: \", accuracy)"
   ]
  },
  {
   "cell_type": "code",
   "execution_count": 18,
   "metadata": {},
   "outputs": [
    {
     "name": "stdout",
     "output_type": "stream",
     "text": [
      "41/41 [==============================] - 1s 4ms/step\n",
      "PRECISION:  0.9780787411996839\n",
      "RECALL:  0.9785111281657713\n",
      "F1-SCORE:  0.977741981451747\n"
     ]
    },
    {
     "name": "stderr",
     "output_type": "stream",
     "text": [
      "/Users/oabas/miniconda3/lib/python3.9/site-packages/sklearn/metrics/_classification.py:1344: UndefinedMetricWarning: Precision is ill-defined and being set to 0.0 in labels with no predicted samples. Use `zero_division` parameter to control this behavior.\n",
      "  _warn_prf(average, modifier, msg_start, len(result))\n"
     ]
    }
   ],
   "source": [
    "# Make predictions on test data\n",
    "y_pred = model.predict(processed_X_test)\n",
    "# Convert predictions to labels\n",
    "y_pred = tf.argmax(y_pred, axis=1).numpy()\n",
    "\n",
    "# Calculate precision, recall, and f1-score\n",
    "precision = precision_score(tf.argmax(y_test, axis=1).numpy(), y_pred, average='weighted')\n",
    "recall = recall_score(tf.argmax(y_test, axis=1).numpy(), y_pred, average='weighted')\n",
    "f1 = f1_score(tf.argmax(y_test, axis=1).numpy(), y_pred, average='weighted')\n",
    "\n",
    "print('PRECISION: ', precision)\n",
    "print('RECALL: ', recall)\n",
    "print('F1-SCORE: ', f1)"
   ]
  },
  {
   "cell_type": "code",
   "execution_count": 19,
   "metadata": {},
   "outputs": [],
   "source": [
    "# Get the accuracy and validation accuracy from the history object\n",
    "acc = history.history['accuracy']\n",
    "val_acc = history.history['val_accuracy']\n",
    "\n",
    "# Get the loss and validation loss from the history object\n",
    "loss = history.history['loss']\n",
    "val_loss = history.history['val_loss']"
   ]
  },
  {
   "cell_type": "code",
   "execution_count": null,
   "metadata": {},
   "outputs": [],
   "source": [
    "# Save the loss, accuracy, and validation accuracy as a CSV file\n",
    "data = {\n",
    "    'Accuracy': acc,\n",
    "    'Val Accuracy': val_acc,\n",
    "    'Loss': loss,\n",
    "    'Val Loss': val_loss\n",
    "}\n",
    "df = pd.DataFrame(data)\n",
    "df.to_csv('model_performance.csv', index=False)"
   ]
  },
  {
   "cell_type": "code",
   "execution_count": null,
   "metadata": {},
   "outputs": [
    {
     "data": {
      "image/png": "[encoded data removed]",
      "text/plain": [
       "<Figure size 800x400 with 1 Axes>"
      ]
     },
     "metadata": {},
     "output_type": "display_data"
    }
   ],
   "source": [
    "# Plot the accuracy\n",
    "plt.figure(figsize=(8, 4))\n",
    "plt.plot(range(len(acc)), acc, label='Train Accuracy')\n",
    "plt.plot(range(len(val_acc)), val_acc, label='Validation Accuracy')\n",
    "plt.title('Training and Validation Accuracy')\n",
    "plt.xlabel('Epochs')\n",
    "plt.ylabel('Accuracy')\n",
    "plt.legend()\n",
    "# plt.savefig('accuracy_plot.jpg')\n",
    "plt.show()"
   ]
  },
  {
   "cell_type": "code",
   "execution_count": null,
   "metadata": {},
   "outputs": [
    {
     "data": {
      "image/png": "[encoded data removed]",
      "text/plain": [
       "<Figure size 800x400 with 1 Axes>"
      ]
     },
     "metadata": {},
     "output_type": "display_data"
    }
   ],
   "source": [
    "# Plot the loss\n",
    "plt.figure(figsize=(8, 4))\n",
    "plt.plot(range(len(loss)), loss, label='Train Loss')\n",
    "plt.plot(range(len(val_loss)), val_loss, label='Validation Loss')\n",
    "plt.title('Training and Validation Loss')\n",
    "plt.xlabel('Epochs')\n",
    "plt.ylabel('Loss')\n",
    "plt.legend()\n",
    "# plt.savefig('loss_plot.jpg')\n",
    "plt.show()"
   ]
  },
  {
   "cell_type": "code",
   "execution_count": null,
   "metadata": {},
   "outputs": [
    {
     "name": "stdout",
     "output_type": "stream",
     "text": [
      "tfjs model saved at  model\n"
     ]
    },
    {
     "name": "stderr",
     "output_type": "stream",
     "text": [
      "/Users/oabas/miniconda3/lib/python3.9/site-packages/keras/src/engine/training.py:3000: UserWarning: You are saving your model as an HDF5 file via `model.save()`. This file format is considered legacy. We recommend using instead the native Keras format, e.g. `model.save('my_model.keras')`.\n",
      "  saving_api.save_model(\n"
     ]
    }
   ],
   "source": [
    "# Save the model as a SavedModel\n",
    "tfjs.converters.save_keras_model(model, tfjs_model_dir)\n",
    "print('tfjs model saved at ',tfjs_model_dir)"
   ]
  }
 ],
 "metadata": {
  "kernelspec": {
   "display_name": "dissertation_env",
   "language": "python",
   "name": "python3"
  },
  "language_info": {
   "codemirror_mode": {
    "name": "ipython",
    "version": 3
   },
   "file_extension": ".py",
   "mimetype": "text/x-python",
   "name": "python",
   "nbconvert_exporter": "python",
   "pygments_lexer": "ipython3",
   "version": "3.9.16"
  },
  "orig_nbformat": 4
 },
 "nbformat": 4,
 "nbformat_minor": 2
}

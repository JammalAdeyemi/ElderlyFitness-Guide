{
 "cells": [
  {
   "cell_type": "code",
   "execution_count": 1,
   "metadata": {},
   "outputs": [],
   "source": [
    "import pandas as pd\n",
    "import numpy as np\n",
    "import matplotlib.pyplot as plt\n",
    "import csv\n",
    "\n",
    "import sys\n",
    "sys.path.append('/Users/oabas/Documents/GitHub/Exercise-Pose-Detection/Codebase/model_training')\n",
    "from data import BodyPart\n",
    "\n",
    "from sklearn.model_selection import train_test_split\n",
    "from sklearn.metrics import precision_score, recall_score, f1_score, confusion_matrix\n",
    "\n",
    "import tensorflow as tf\n",
    "import tensorflowjs as tfjs\n",
    "from tensorflow import keras"
   ]
  },
  {
   "cell_type": "code",
   "execution_count": 2,
   "metadata": {},
   "outputs": [],
   "source": [
    "tfjs_model_dir = 'model'"
   ]
  },
  {
   "cell_type": "code",
   "execution_count": 3,
   "metadata": {},
   "outputs": [],
   "source": [
    "def load_csv(csv_path):\n",
    "    df = pd.read_csv(csv_path)\n",
    "    df.drop(['filename'],axis=1, inplace=True)\n",
    "    classes = df.pop('class_name').unique()\n",
    "    y = df.pop('class_no')\n",
    "\n",
    "    X = df.astype('float64')\n",
    "    y = keras.utils.to_categorical(y)\n",
    "    \n",
    "    return X, y, classes\n",
    "\n",
    "\n",
    "def get_center_point(landmarks, left_bodypart, right_bodypart):\n",
    "    left = tf.gather(landmarks, left_bodypart.value, axis=1)\n",
    "    right = tf.gather(landmarks, right_bodypart.value, axis=1)\n",
    "    center = left * 0.5 + right * 0.5\n",
    "    return center"
   ]
  },
  {
   "cell_type": "code",
   "execution_count": 4,
   "metadata": {},
   "outputs": [],
   "source": [
    "def get_pose_size(landmarks, torso_size_multiplier=2.5):\n",
    "  \n",
    "    hips_center = get_center_point(landmarks, BodyPart.LEFT_HIP, \n",
    "                                 BodyPart.RIGHT_HIP)\n",
    "\n",
    "    shoulders_center = get_center_point(landmarks, BodyPart.LEFT_SHOULDER,\n",
    "                                      BodyPart.RIGHT_SHOULDER)\n",
    "\n",
    "    # Torso size as the minimum body size\n",
    "    torso_size = tf.linalg.norm(shoulders_center - hips_center)\n",
    "    # Pose center\n",
    "    pose_center_new = get_center_point(landmarks, BodyPart.LEFT_HIP, \n",
    "                                     BodyPart.RIGHT_HIP)\n",
    "    pose_center_new = tf.expand_dims(pose_center_new, axis=1)\n",
    "    # Broadcast the pose center to the same size as the landmark vector to\n",
    "    # perform substraction\n",
    "    pose_center_new = tf.broadcast_to(pose_center_new,\n",
    "                                    [tf.size(landmarks) // (17*2), 17, 2])\n",
    "\n",
    "    # Dist to pose center\n",
    "    d = tf.gather(landmarks - pose_center_new, 0, axis=0,\n",
    "                name=\"dist_to_pose_center\")\n",
    "    # Max dist to pose center\n",
    "    max_dist = tf.reduce_max(tf.linalg.norm(d, axis=0))\n",
    "\n",
    "    # Normalize scale\n",
    "    pose_size = tf.maximum(torso_size * torso_size_multiplier, max_dist)\n",
    "    return pose_size"
   ]
  },
  {
   "cell_type": "code",
   "execution_count": 5,
   "metadata": {},
   "outputs": [],
   "source": [
    "def normalize_pose_landmarks(landmarks):\n",
    "    \"\"\"Normalizes the landmarks translation by moving the pose center to (0,0) and\n",
    "    scaling it to a constant pose size.\n",
    "  \"\"\"\n",
    "  # Move landmarks so that the pose center becomes (0,0)\n",
    "    pose_center = get_center_point(landmarks, BodyPart.LEFT_HIP, \n",
    "                                 BodyPart.RIGHT_HIP)\n",
    "\n",
    "    pose_center = tf.expand_dims(pose_center, axis=1)\n",
    "    # Broadcast the pose center to the same size as the landmark vector to perform\n",
    "    # substraction\n",
    "    pose_center = tf.broadcast_to(pose_center, \n",
    "                                [tf.size(landmarks) // (17*2), 17, 2])\n",
    "    landmarks = landmarks - pose_center\n",
    "\n",
    "    # Scale the landmarks to a constant pose size\n",
    "    pose_size = get_pose_size(landmarks)\n",
    "    landmarks /= pose_size\n",
    "    return landmarks"
   ]
  },
  {
   "cell_type": "code",
   "execution_count": 6,
   "metadata": {},
   "outputs": [],
   "source": [
    "def landmarks_to_embedding(landmarks_and_scores):\n",
    "    \"\"\"Converts the input landmarks into a pose embedding.\"\"\"\n",
    "    # Reshape the flat input into a matrix with shape=(17, 3)\n",
    "    reshaped_inputs = keras.layers.Reshape((17, 3))(landmarks_and_scores)\n",
    "\n",
    "    # Normalize landmarks 2D\n",
    "    landmarks = normalize_pose_landmarks(reshaped_inputs[:, :, :2])\n",
    "    # Flatten the normalized landmark coordinates into a vector\n",
    "    embedding = keras.layers.Flatten()(landmarks)\n",
    "    return embedding"
   ]
  },
  {
   "cell_type": "code",
   "execution_count": 7,
   "metadata": {},
   "outputs": [],
   "source": [
    "def preprocess_data(X_train):\n",
    "    processed_X_train = []\n",
    "    for i in range(X_train.shape[0]):\n",
    "        embedding = landmarks_to_embedding(tf.reshape(tf.convert_to_tensor(X_train.iloc[i]), (1, 51)))\n",
    "        processed_X_train.append(tf.reshape(embedding, (34)))\n",
    "    return tf.convert_to_tensor(processed_X_train)"
   ]
  },
  {
   "cell_type": "code",
   "execution_count": 8,
   "metadata": {},
   "outputs": [],
   "source": [
    "X, y, class_names = load_csv('../../../Data/model_data/train_data.csv')\n",
    "X_train, X_val, y_train, y_val = train_test_split(X, y, test_size=0.15)\n",
    "X_test, y_test, _ = load_csv('../../../Data/model_data/test_data.csv')\n",
    "num_classes = len(class_names)"
   ]
  },
  {
   "cell_type": "code",
   "execution_count": 9,
   "metadata": {},
   "outputs": [
    {
     "name": "stdout",
     "output_type": "stream",
     "text": [
      "Metal device set to: Apple M2\n",
      "\n",
      "systemMemory: 8.00 GB\n",
      "maxCacheSize: 2.67 GB\n",
      "\n"
     ]
    }
   ],
   "source": [
    "processed_X_train = preprocess_data(X_train)\n",
    "processed_X_val =  preprocess_data(X_val)\n",
    "processed_X_test = preprocess_data(X_test)"
   ]
  },
  {
   "cell_type": "code",
   "execution_count": 10,
   "metadata": {},
   "outputs": [
    {
     "name": "stdout",
     "output_type": "stream",
     "text": [
      "Shape of processed_X_train: (5357, 34)\n",
      "Shape of processed_X_val: (946, 34)\n",
      "Shape of processed_X_test: (1303, 34)\n"
     ]
    }
   ],
   "source": [
    "print(\"Shape of processed_X_train:\", processed_X_train.shape)\n",
    "print(\"Shape of processed_X_val:\", processed_X_val.shape)\n",
    "print(\"Shape of processed_X_test:\", processed_X_test.shape)"
   ]
  },
  {
   "cell_type": "code",
   "execution_count": 11,
   "metadata": {},
   "outputs": [
    {
     "name": "stdout",
     "output_type": "stream",
     "text": [
      "Shape of y_train: (5357, 13)\n",
      "Shape of y_val: (946, 13)\n",
      "Shape of y_test: (1303, 13)\n"
     ]
    }
   ],
   "source": [
    "print(\"Shape of y_train:\", y_train.shape)\n",
    "print(\"Shape of y_val:\", y_val.shape)\n",
    "print(\"Shape of y_test:\", y_test.shape)"
   ]
  },
  {
   "cell_type": "code",
   "execution_count": 12,
   "metadata": {},
   "outputs": [],
   "source": [
    "# MLP model\n",
    "inputs = keras.Input(shape=(34,)) \n",
    "\n",
    "# Hidden layers\n",
    "x = keras.layers.Dense(512, activation='relu')(inputs)\n",
    "x = keras.layers.BatchNormalization()(x)\n",
    "x = keras.layers.Dropout(0.3)(x)\n",
    "\n",
    "x = keras.layers.Dense(256, activation='relu')(x)\n",
    "x = keras.layers.BatchNormalization()(x)\n",
    "x = keras.layers.Dropout(0.3)(x)\n",
    "\n",
    "# Output layer\n",
    "outputs = keras.layers.Dense(num_classes, activation='softmax')(x)"
   ]
  },
  {
   "cell_type": "code",
   "execution_count": 13,
   "metadata": {},
   "outputs": [],
   "source": [
    "model_mlp = keras.Model(inputs, outputs) \n",
    "\n",
    "# Compile\n",
    "model_mlp.compile(optimizer='adam',\n",
    "                  loss='categorical_crossentropy', \n",
    "                  metrics=['accuracy'])"
   ]
  },
  {
   "cell_type": "code",
   "execution_count": 14,
   "metadata": {},
   "outputs": [],
   "source": [
    "# Add a checkpoint callback to store the checkpoint that has the highest validation accuracy.\n",
    "checkpoint_path = \"MLP_tf.h5\"\n",
    "checkpoint = keras.callbacks.ModelCheckpoint(checkpoint_path,\n",
    "                                             monitor='val_accuracy',\n",
    "                                             verbose=1,\n",
    "                                             save_best_only=True,\n",
    "                                             mode='max')\n",
    "earlystopping = keras.callbacks.EarlyStopping(monitor='val_accuracy', \n",
    "                                              patience=20)"
   ]
  },
  {
   "cell_type": "code",
   "execution_count": 15,
   "metadata": {},
   "outputs": [
    {
     "name": "stdout",
     "output_type": "stream",
     "text": [
      "--------------TRAINING MLP MODEL----------------\n",
      "Epoch 1/150\n",
      "335/335 [==============================] - ETA: 0s - loss: 0.6530 - accuracy: 0.7924\n",
      "Epoch 1: val_accuracy improved from -inf to 0.73679, saving model to MLP_tf.h5\n",
      "335/335 [==============================] - 10s 25ms/step - loss: 0.6530 - accuracy: 0.7924 - val_loss: 1.0386 - val_accuracy: 0.7368\n",
      "Epoch 2/150\n"
     ]
    },
    {
     "name": "stderr",
     "output_type": "stream",
     "text": [
      "/Users/oabas/miniconda3/lib/python3.9/site-packages/keras/src/engine/training.py:3000: UserWarning: You are saving your model as an HDF5 file via `model.save()`. This file format is considered legacy. We recommend using instead the native Keras format, e.g. `model.save('my_model.keras')`.\n",
      "  saving_api.save_model(\n"
     ]
    },
    {
     "name": "stdout",
     "output_type": "stream",
     "text": [
      "334/335 [============================>.] - ETA: 0s - loss: 0.3020 - accuracy: 0.9070\n",
      "Epoch 2: val_accuracy improved from 0.73679 to 0.92178, saving model to MLP_tf.h5\n",
      "335/335 [==============================] - 7s 20ms/step - loss: 0.3014 - accuracy: 0.9072 - val_loss: 0.1985 - val_accuracy: 0.9218\n",
      "Epoch 3/150\n",
      "333/335 [============================>.] - ETA: 0s - loss: 0.2335 - accuracy: 0.9264\n",
      "Epoch 3: val_accuracy improved from 0.92178 to 0.94080, saving model to MLP_tf.h5\n",
      "335/335 [==============================] - 7s 20ms/step - loss: 0.2327 - accuracy: 0.9265 - val_loss: 0.1653 - val_accuracy: 0.9408\n",
      "Epoch 4/150\n",
      "334/335 [============================>.] - ETA: 0s - loss: 0.1999 - accuracy: 0.9356\n",
      "Epoch 4: val_accuracy improved from 0.94080 to 0.96617, saving model to MLP_tf.h5\n",
      "335/335 [==============================] - 7s 20ms/step - loss: 0.1999 - accuracy: 0.9356 - val_loss: 0.1083 - val_accuracy: 0.9662\n",
      "Epoch 5/150\n",
      "335/335 [==============================] - ETA: 0s - loss: 0.1751 - accuracy: 0.9399\n",
      "Epoch 5: val_accuracy did not improve from 0.96617\n",
      "335/335 [==============================] - 7s 20ms/step - loss: 0.1751 - accuracy: 0.9399 - val_loss: 0.1302 - val_accuracy: 0.9662\n",
      "Epoch 6/150\n",
      "333/335 [============================>.] - ETA: 0s - loss: 0.1725 - accuracy: 0.9444\n",
      "Epoch 6: val_accuracy did not improve from 0.96617\n",
      "335/335 [==============================] - 6s 19ms/step - loss: 0.1725 - accuracy: 0.9446 - val_loss: 0.0918 - val_accuracy: 0.9641\n",
      "Epoch 7/150\n",
      "335/335 [==============================] - ETA: 0s - loss: 0.1533 - accuracy: 0.9470\n",
      "Epoch 7: val_accuracy improved from 0.96617 to 0.97992, saving model to MLP_tf.h5\n",
      "335/335 [==============================] - 6s 19ms/step - loss: 0.1533 - accuracy: 0.9470 - val_loss: 0.0845 - val_accuracy: 0.9799\n",
      "Epoch 8/150\n",
      "335/335 [==============================] - ETA: 0s - loss: 0.1474 - accuracy: 0.9492\n",
      "Epoch 8: val_accuracy improved from 0.97992 to 0.98520, saving model to MLP_tf.h5\n",
      "335/335 [==============================] - 7s 21ms/step - loss: 0.1474 - accuracy: 0.9492 - val_loss: 0.0614 - val_accuracy: 0.9852\n",
      "Epoch 9/150\n",
      "334/335 [============================>.] - ETA: 0s - loss: 0.1692 - accuracy: 0.9444\n",
      "Epoch 9: val_accuracy did not improve from 0.98520\n",
      "335/335 [==============================] - 7s 20ms/step - loss: 0.1690 - accuracy: 0.9446 - val_loss: 0.1071 - val_accuracy: 0.9609\n",
      "Epoch 10/150\n",
      "333/335 [============================>.] - ETA: 0s - loss: 0.1247 - accuracy: 0.9604\n",
      "Epoch 10: val_accuracy did not improve from 0.98520\n",
      "335/335 [==============================] - 7s 21ms/step - loss: 0.1265 - accuracy: 0.9595 - val_loss: 0.0733 - val_accuracy: 0.9746\n",
      "Epoch 11/150\n",
      "334/335 [============================>.] - ETA: 0s - loss: 0.1327 - accuracy: 0.9549\n",
      "Epoch 11: val_accuracy did not improve from 0.98520\n",
      "335/335 [==============================] - 7s 20ms/step - loss: 0.1327 - accuracy: 0.9550 - val_loss: 0.1356 - val_accuracy: 0.9461\n",
      "Epoch 12/150\n",
      "335/335 [==============================] - ETA: 0s - loss: 0.1325 - accuracy: 0.9559\n",
      "Epoch 12: val_accuracy did not improve from 0.98520\n",
      "335/335 [==============================] - 7s 20ms/step - loss: 0.1325 - accuracy: 0.9559 - val_loss: 0.0757 - val_accuracy: 0.9778\n",
      "Epoch 13/150\n",
      "335/335 [==============================] - ETA: 0s - loss: 0.1130 - accuracy: 0.9608\n",
      "Epoch 13: val_accuracy did not improve from 0.98520\n",
      "335/335 [==============================] - 7s 21ms/step - loss: 0.1130 - accuracy: 0.9608 - val_loss: 0.0988 - val_accuracy: 0.9693\n",
      "Epoch 14/150\n",
      "335/335 [==============================] - ETA: 0s - loss: 0.1156 - accuracy: 0.9580\n",
      "Epoch 14: val_accuracy did not improve from 0.98520\n",
      "335/335 [==============================] - 6s 19ms/step - loss: 0.1156 - accuracy: 0.9580 - val_loss: 0.0649 - val_accuracy: 0.9810\n",
      "Epoch 15/150\n",
      "333/335 [============================>.] - ETA: 0s - loss: 0.1113 - accuracy: 0.9627\n",
      "Epoch 15: val_accuracy did not improve from 0.98520\n",
      "335/335 [==============================] - 7s 20ms/step - loss: 0.1108 - accuracy: 0.9629 - val_loss: 0.1026 - val_accuracy: 0.9630\n",
      "Epoch 16/150\n",
      "334/335 [============================>.] - ETA: 0s - loss: 0.1080 - accuracy: 0.9644\n",
      "Epoch 16: val_accuracy did not improve from 0.98520\n",
      "335/335 [==============================] - 6s 19ms/step - loss: 0.1092 - accuracy: 0.9642 - val_loss: 0.0660 - val_accuracy: 0.9799\n",
      "Epoch 17/150\n",
      "335/335 [==============================] - ETA: 0s - loss: 0.1069 - accuracy: 0.9643\n",
      "Epoch 17: val_accuracy did not improve from 0.98520\n",
      "335/335 [==============================] - 7s 20ms/step - loss: 0.1069 - accuracy: 0.9643 - val_loss: 0.0659 - val_accuracy: 0.9820\n",
      "Epoch 18/150\n",
      "334/335 [============================>.] - ETA: 0s - loss: 0.1093 - accuracy: 0.9613\n",
      "Epoch 18: val_accuracy did not improve from 0.98520\n",
      "335/335 [==============================] - 7s 20ms/step - loss: 0.1091 - accuracy: 0.9614 - val_loss: 0.0868 - val_accuracy: 0.9767\n",
      "Epoch 19/150\n",
      "335/335 [==============================] - ETA: 0s - loss: 0.0893 - accuracy: 0.9713\n",
      "Epoch 19: val_accuracy did not improve from 0.98520\n",
      "335/335 [==============================] - 7s 21ms/step - loss: 0.0893 - accuracy: 0.9713 - val_loss: 0.0538 - val_accuracy: 0.9799\n",
      "Epoch 20/150\n",
      "335/335 [==============================] - ETA: 0s - loss: 0.0833 - accuracy: 0.9731\n",
      "Epoch 20: val_accuracy improved from 0.98520 to 0.98731, saving model to MLP_tf.h5\n",
      "335/335 [==============================] - 7s 20ms/step - loss: 0.0833 - accuracy: 0.9731 - val_loss: 0.0427 - val_accuracy: 0.9873\n",
      "Epoch 21/150\n",
      "334/335 [============================>.] - ETA: 0s - loss: 0.0843 - accuracy: 0.9721\n",
      "Epoch 21: val_accuracy did not improve from 0.98731\n",
      "335/335 [==============================] - 7s 21ms/step - loss: 0.0841 - accuracy: 0.9722 - val_loss: 0.0750 - val_accuracy: 0.9715\n",
      "Epoch 22/150\n",
      "335/335 [==============================] - ETA: 0s - loss: 0.0841 - accuracy: 0.9754\n",
      "Epoch 22: val_accuracy did not improve from 0.98731\n",
      "335/335 [==============================] - 7s 20ms/step - loss: 0.0841 - accuracy: 0.9754 - val_loss: 0.0539 - val_accuracy: 0.9799\n",
      "Epoch 23/150\n",
      "333/335 [============================>.] - ETA: 0s - loss: 0.1001 - accuracy: 0.9681\n",
      "Epoch 23: val_accuracy did not improve from 0.98731\n",
      "335/335 [==============================] - 7s 20ms/step - loss: 0.0998 - accuracy: 0.9683 - val_loss: 0.0682 - val_accuracy: 0.9778\n",
      "Epoch 24/150\n",
      "333/335 [============================>.] - ETA: 0s - loss: 0.0865 - accuracy: 0.9709\n",
      "Epoch 24: val_accuracy did not improve from 0.98731\n",
      "335/335 [==============================] - 7s 20ms/step - loss: 0.0863 - accuracy: 0.9711 - val_loss: 0.0651 - val_accuracy: 0.9820\n",
      "Epoch 25/150\n",
      "335/335 [==============================] - ETA: 0s - loss: 0.0902 - accuracy: 0.9716\n",
      "Epoch 25: val_accuracy did not improve from 0.98731\n",
      "335/335 [==============================] - 7s 20ms/step - loss: 0.0902 - accuracy: 0.9716 - val_loss: 0.0686 - val_accuracy: 0.9810\n",
      "Epoch 26/150\n",
      "334/335 [============================>.] - ETA: 0s - loss: 0.0911 - accuracy: 0.9686\n",
      "Epoch 26: val_accuracy did not improve from 0.98731\n",
      "335/335 [==============================] - 6s 19ms/step - loss: 0.0912 - accuracy: 0.9686 - val_loss: 0.0569 - val_accuracy: 0.9810\n",
      "Epoch 27/150\n",
      "335/335 [==============================] - ETA: 0s - loss: 0.0807 - accuracy: 0.9742\n",
      "Epoch 27: val_accuracy did not improve from 0.98731\n",
      "335/335 [==============================] - 6s 19ms/step - loss: 0.0807 - accuracy: 0.9742 - val_loss: 0.0565 - val_accuracy: 0.9841\n",
      "Epoch 28/150\n",
      "334/335 [============================>.] - ETA: 0s - loss: 0.0902 - accuracy: 0.9706\n",
      "Epoch 28: val_accuracy did not improve from 0.98731\n",
      "335/335 [==============================] - 8s 24ms/step - loss: 0.0904 - accuracy: 0.9705 - val_loss: 0.0585 - val_accuracy: 0.9799\n",
      "Epoch 29/150\n",
      "335/335 [==============================] - ETA: 0s - loss: 0.0833 - accuracy: 0.9726\n",
      "Epoch 29: val_accuracy did not improve from 0.98731\n",
      "335/335 [==============================] - 7s 20ms/step - loss: 0.0833 - accuracy: 0.9726 - val_loss: 0.0440 - val_accuracy: 0.9873\n",
      "Epoch 30/150\n",
      "333/335 [============================>.] - ETA: 0s - loss: 0.0864 - accuracy: 0.9747\n",
      "Epoch 30: val_accuracy did not improve from 0.98731\n",
      "335/335 [==============================] - 7s 20ms/step - loss: 0.0860 - accuracy: 0.9748 - val_loss: 0.0506 - val_accuracy: 0.9863\n",
      "Epoch 31/150\n",
      "335/335 [==============================] - ETA: 0s - loss: 0.0855 - accuracy: 0.9720\n",
      "Epoch 31: val_accuracy did not improve from 0.98731\n",
      "335/335 [==============================] - 7s 21ms/step - loss: 0.0855 - accuracy: 0.9720 - val_loss: 0.0564 - val_accuracy: 0.9799\n",
      "Epoch 32/150\n",
      "333/335 [============================>.] - ETA: 0s - loss: 0.0644 - accuracy: 0.9779\n",
      "Epoch 32: val_accuracy did not improve from 0.98731\n",
      "335/335 [==============================] - 7s 20ms/step - loss: 0.0643 - accuracy: 0.9780 - val_loss: 0.0504 - val_accuracy: 0.9831\n",
      "Epoch 33/150\n",
      "335/335 [==============================] - ETA: 0s - loss: 0.0806 - accuracy: 0.9741\n",
      "Epoch 33: val_accuracy did not improve from 0.98731\n",
      "335/335 [==============================] - 7s 20ms/step - loss: 0.0806 - accuracy: 0.9741 - val_loss: 0.0433 - val_accuracy: 0.9873\n",
      "Epoch 34/150\n",
      "335/335 [==============================] - ETA: 0s - loss: 0.0778 - accuracy: 0.9729\n",
      "Epoch 34: val_accuracy did not improve from 0.98731\n",
      "335/335 [==============================] - 7s 20ms/step - loss: 0.0778 - accuracy: 0.9729 - val_loss: 0.0525 - val_accuracy: 0.9841\n",
      "Epoch 35/150\n",
      "334/335 [============================>.] - ETA: 0s - loss: 0.0817 - accuracy: 0.9727\n",
      "Epoch 35: val_accuracy did not improve from 0.98731\n",
      "335/335 [==============================] - 7s 20ms/step - loss: 0.0815 - accuracy: 0.9727 - val_loss: 0.0536 - val_accuracy: 0.9799\n",
      "Epoch 36/150\n",
      "334/335 [============================>.] - ETA: 0s - loss: 0.0825 - accuracy: 0.9731\n",
      "Epoch 36: val_accuracy did not improve from 0.98731\n",
      "335/335 [==============================] - 7s 20ms/step - loss: 0.0825 - accuracy: 0.9729 - val_loss: 0.0546 - val_accuracy: 0.9820\n",
      "Epoch 37/150\n",
      "333/335 [============================>.] - ETA: 0s - loss: 0.0796 - accuracy: 0.9773\n",
      "Epoch 37: val_accuracy did not improve from 0.98731\n",
      "335/335 [==============================] - 7s 22ms/step - loss: 0.0792 - accuracy: 0.9774 - val_loss: 0.0703 - val_accuracy: 0.9767\n",
      "Epoch 38/150\n",
      "335/335 [==============================] - ETA: 0s - loss: 0.0718 - accuracy: 0.9769\n",
      "Epoch 38: val_accuracy did not improve from 0.98731\n",
      "335/335 [==============================] - 7s 21ms/step - loss: 0.0718 - accuracy: 0.9769 - val_loss: 0.0438 - val_accuracy: 0.9852\n",
      "Epoch 39/150\n",
      "334/335 [============================>.] - ETA: 0s - loss: 0.0816 - accuracy: 0.9736\n",
      "Epoch 39: val_accuracy improved from 0.98731 to 0.98837, saving model to MLP_tf.h5\n",
      "335/335 [==============================] - 7s 21ms/step - loss: 0.0814 - accuracy: 0.9737 - val_loss: 0.0391 - val_accuracy: 0.9884\n",
      "Epoch 40/150\n",
      "335/335 [==============================] - ETA: 0s - loss: 0.0747 - accuracy: 0.9744\n",
      "Epoch 40: val_accuracy did not improve from 0.98837\n",
      "335/335 [==============================] - 7s 21ms/step - loss: 0.0747 - accuracy: 0.9744 - val_loss: 0.0516 - val_accuracy: 0.9841\n",
      "Epoch 41/150\n",
      "333/335 [============================>.] - ETA: 0s - loss: 0.0719 - accuracy: 0.9784\n",
      "Epoch 41: val_accuracy did not improve from 0.98837\n",
      "335/335 [==============================] - 7s 21ms/step - loss: 0.0716 - accuracy: 0.9785 - val_loss: 0.0486 - val_accuracy: 0.9810\n",
      "Epoch 42/150\n",
      "335/335 [==============================] - ETA: 0s - loss: 0.0709 - accuracy: 0.9761\n",
      "Epoch 42: val_accuracy improved from 0.98837 to 0.98943, saving model to MLP_tf.h5\n",
      "335/335 [==============================] - 7s 21ms/step - loss: 0.0709 - accuracy: 0.9761 - val_loss: 0.0336 - val_accuracy: 0.9894\n",
      "Epoch 43/150\n",
      "335/335 [==============================] - ETA: 0s - loss: 0.0592 - accuracy: 0.9806\n",
      "Epoch 43: val_accuracy did not improve from 0.98943\n",
      "335/335 [==============================] - 7s 21ms/step - loss: 0.0592 - accuracy: 0.9806 - val_loss: 0.0480 - val_accuracy: 0.9831\n",
      "Epoch 44/150\n",
      "334/335 [============================>.] - ETA: 0s - loss: 0.0591 - accuracy: 0.9798\n",
      "Epoch 44: val_accuracy did not improve from 0.98943\n",
      "335/335 [==============================] - 7s 20ms/step - loss: 0.0594 - accuracy: 0.9797 - val_loss: 0.0452 - val_accuracy: 0.9863\n",
      "Epoch 45/150\n",
      "333/335 [============================>.] - ETA: 0s - loss: 0.0689 - accuracy: 0.9788\n",
      "Epoch 45: val_accuracy did not improve from 0.98943\n",
      "335/335 [==============================] - 7s 21ms/step - loss: 0.0697 - accuracy: 0.9783 - val_loss: 0.0292 - val_accuracy: 0.9894\n",
      "Epoch 46/150\n",
      "334/335 [============================>.] - ETA: 0s - loss: 0.0555 - accuracy: 0.9818\n",
      "Epoch 46: val_accuracy improved from 0.98943 to 0.99049, saving model to MLP_tf.h5\n",
      "335/335 [==============================] - 7s 22ms/step - loss: 0.0553 - accuracy: 0.9819 - val_loss: 0.0277 - val_accuracy: 0.9905\n",
      "Epoch 47/150\n",
      "335/335 [==============================] - ETA: 0s - loss: 0.0531 - accuracy: 0.9830\n",
      "Epoch 47: val_accuracy did not improve from 0.99049\n",
      "335/335 [==============================] - 7s 21ms/step - loss: 0.0531 - accuracy: 0.9830 - val_loss: 0.0381 - val_accuracy: 0.9884\n",
      "Epoch 48/150\n",
      "334/335 [============================>.] - ETA: 0s - loss: 0.0705 - accuracy: 0.9779\n",
      "Epoch 48: val_accuracy did not improve from 0.99049\n",
      "335/335 [==============================] - 7s 20ms/step - loss: 0.0703 - accuracy: 0.9780 - val_loss: 0.0345 - val_accuracy: 0.9852\n",
      "Epoch 49/150\n",
      "333/335 [============================>.] - ETA: 0s - loss: 0.0683 - accuracy: 0.9769\n",
      "Epoch 49: val_accuracy did not improve from 0.99049\n",
      "335/335 [==============================] - 7s 20ms/step - loss: 0.0681 - accuracy: 0.9770 - val_loss: 0.0536 - val_accuracy: 0.9831\n",
      "Epoch 50/150\n",
      "333/335 [============================>.] - ETA: 0s - loss: 0.0538 - accuracy: 0.9814\n",
      "Epoch 50: val_accuracy did not improve from 0.99049\n",
      "335/335 [==============================] - 7s 20ms/step - loss: 0.0552 - accuracy: 0.9810 - val_loss: 0.0348 - val_accuracy: 0.9884\n",
      "Epoch 51/150\n",
      "334/335 [============================>.] - ETA: 0s - loss: 0.0546 - accuracy: 0.9818\n",
      "Epoch 51: val_accuracy improved from 0.99049 to 0.99154, saving model to MLP_tf.h5\n",
      "335/335 [==============================] - 7s 20ms/step - loss: 0.0550 - accuracy: 0.9817 - val_loss: 0.0397 - val_accuracy: 0.9915\n",
      "Epoch 52/150\n",
      "335/335 [==============================] - ETA: 0s - loss: 0.0551 - accuracy: 0.9817\n",
      "Epoch 52: val_accuracy did not improve from 0.99154\n",
      "335/335 [==============================] - 7s 20ms/step - loss: 0.0551 - accuracy: 0.9817 - val_loss: 0.0478 - val_accuracy: 0.9863\n",
      "Epoch 53/150\n",
      "335/335 [==============================] - ETA: 0s - loss: 0.0584 - accuracy: 0.9806\n",
      "Epoch 53: val_accuracy did not improve from 0.99154\n",
      "335/335 [==============================] - 7s 20ms/step - loss: 0.0584 - accuracy: 0.9806 - val_loss: 0.0495 - val_accuracy: 0.9852\n",
      "Epoch 54/150\n",
      "333/335 [============================>.] - ETA: 0s - loss: 0.0504 - accuracy: 0.9833\n",
      "Epoch 54: val_accuracy did not improve from 0.99154\n",
      "335/335 [==============================] - 7s 22ms/step - loss: 0.0501 - accuracy: 0.9834 - val_loss: 0.0290 - val_accuracy: 0.9884\n",
      "Epoch 55/150\n",
      "335/335 [==============================] - ETA: 0s - loss: 0.0484 - accuracy: 0.9839\n",
      "Epoch 55: val_accuracy did not improve from 0.99154\n",
      "335/335 [==============================] - 7s 22ms/step - loss: 0.0484 - accuracy: 0.9839 - val_loss: 0.0311 - val_accuracy: 0.9915\n",
      "Epoch 56/150\n",
      "335/335 [==============================] - ETA: 0s - loss: 0.0640 - accuracy: 0.9789\n",
      "Epoch 56: val_accuracy did not improve from 0.99154\n",
      "335/335 [==============================] - 7s 21ms/step - loss: 0.0640 - accuracy: 0.9789 - val_loss: 0.0577 - val_accuracy: 0.9841\n",
      "Epoch 57/150\n",
      "335/335 [==============================] - ETA: 0s - loss: 0.0686 - accuracy: 0.9769\n",
      "Epoch 57: val_accuracy did not improve from 0.99154\n",
      "335/335 [==============================] - 7s 21ms/step - loss: 0.0686 - accuracy: 0.9769 - val_loss: 0.0576 - val_accuracy: 0.9841\n",
      "Epoch 58/150\n",
      "335/335 [==============================] - ETA: 0s - loss: 0.0544 - accuracy: 0.9808\n",
      "Epoch 58: val_accuracy did not improve from 0.99154\n",
      "335/335 [==============================] - 7s 21ms/step - loss: 0.0544 - accuracy: 0.9808 - val_loss: 0.0371 - val_accuracy: 0.9894\n",
      "Epoch 59/150\n",
      "334/335 [============================>.] - ETA: 0s - loss: 0.0640 - accuracy: 0.9785\n",
      "Epoch 59: val_accuracy did not improve from 0.99154\n",
      "335/335 [==============================] - 7s 21ms/step - loss: 0.0638 - accuracy: 0.9785 - val_loss: 0.0381 - val_accuracy: 0.9884\n",
      "Epoch 60/150\n",
      "333/335 [============================>.] - ETA: 0s - loss: 0.0528 - accuracy: 0.9833\n",
      "Epoch 60: val_accuracy did not improve from 0.99154\n",
      "335/335 [==============================] - 7s 20ms/step - loss: 0.0527 - accuracy: 0.9834 - val_loss: 0.0455 - val_accuracy: 0.9841\n",
      "Epoch 61/150\n",
      "335/335 [==============================] - ETA: 0s - loss: 0.0532 - accuracy: 0.9830\n",
      "Epoch 61: val_accuracy did not improve from 0.99154\n",
      "335/335 [==============================] - 7s 21ms/step - loss: 0.0532 - accuracy: 0.9830 - val_loss: 0.0327 - val_accuracy: 0.9873\n",
      "Epoch 62/150\n",
      "335/335 [==============================] - ETA: 0s - loss: 0.0465 - accuracy: 0.9856\n",
      "Epoch 62: val_accuracy did not improve from 0.99154\n",
      "335/335 [==============================] - 7s 20ms/step - loss: 0.0465 - accuracy: 0.9856 - val_loss: 0.0371 - val_accuracy: 0.9884\n",
      "Epoch 63/150\n",
      "333/335 [============================>.] - ETA: 0s - loss: 0.0586 - accuracy: 0.9799\n",
      "Epoch 63: val_accuracy did not improve from 0.99154\n",
      "335/335 [==============================] - 8s 22ms/step - loss: 0.0583 - accuracy: 0.9800 - val_loss: 0.0429 - val_accuracy: 0.9873\n",
      "Epoch 64/150\n",
      "333/335 [============================>.] - ETA: 0s - loss: 0.0484 - accuracy: 0.9812\n",
      "Epoch 64: val_accuracy did not improve from 0.99154\n",
      "335/335 [==============================] - 7s 21ms/step - loss: 0.0492 - accuracy: 0.9811 - val_loss: 0.0250 - val_accuracy: 0.9915\n",
      "Epoch 65/150\n",
      "334/335 [============================>.] - ETA: 0s - loss: 0.0605 - accuracy: 0.9828\n",
      "Epoch 65: val_accuracy did not improve from 0.99154\n",
      "335/335 [==============================] - 7s 21ms/step - loss: 0.0604 - accuracy: 0.9828 - val_loss: 0.0484 - val_accuracy: 0.9873\n",
      "Epoch 66/150\n",
      "333/335 [============================>.] - ETA: 0s - loss: 0.0532 - accuracy: 0.9812\n",
      "Epoch 66: val_accuracy did not improve from 0.99154\n",
      "335/335 [==============================] - 7s 20ms/step - loss: 0.0530 - accuracy: 0.9813 - val_loss: 0.0419 - val_accuracy: 0.9863\n",
      "Epoch 67/150\n",
      "334/335 [============================>.] - ETA: 0s - loss: 0.0588 - accuracy: 0.9805\n",
      "Epoch 67: val_accuracy did not improve from 0.99154\n",
      "335/335 [==============================] - 7s 20ms/step - loss: 0.0591 - accuracy: 0.9804 - val_loss: 0.0348 - val_accuracy: 0.9873\n",
      "Epoch 68/150\n",
      "335/335 [==============================] - ETA: 0s - loss: 0.0467 - accuracy: 0.9860\n",
      "Epoch 68: val_accuracy did not improve from 0.99154\n",
      "335/335 [==============================] - 7s 20ms/step - loss: 0.0467 - accuracy: 0.9860 - val_loss: 0.0448 - val_accuracy: 0.9852\n",
      "Epoch 69/150\n",
      "335/335 [==============================] - ETA: 0s - loss: 0.0482 - accuracy: 0.9836\n",
      "Epoch 69: val_accuracy did not improve from 0.99154\n",
      "335/335 [==============================] - 7s 20ms/step - loss: 0.0482 - accuracy: 0.9836 - val_loss: 0.0434 - val_accuracy: 0.9884\n",
      "Epoch 70/150\n",
      "333/335 [============================>.] - ETA: 0s - loss: 0.0451 - accuracy: 0.9842\n",
      "Epoch 70: val_accuracy did not improve from 0.99154\n",
      "335/335 [==============================] - 7s 20ms/step - loss: 0.0449 - accuracy: 0.9843 - val_loss: 0.0375 - val_accuracy: 0.9841\n",
      "Epoch 71/150\n",
      "333/335 [============================>.] - ETA: 0s - loss: 0.0531 - accuracy: 0.9822\n",
      "Epoch 71: val_accuracy did not improve from 0.99154\n",
      "335/335 [==============================] - 7s 22ms/step - loss: 0.0529 - accuracy: 0.9823 - val_loss: 0.0348 - val_accuracy: 0.9852\n",
      "-----------------EVALUATION----------------\n",
      "41/41 [==============================] - 1s 16ms/step - loss: 0.0695 - accuracy: 0.9777\n",
      "LOSS:  0.06945343315601349\n",
      "ACCURACY:  0.9777436852455139\n"
     ]
    }
   ],
   "source": [
    "# Start training\n",
    "print('--------------TRAINING MLP MODEL----------------')\n",
    "history_mlp = model_mlp.fit(processed_X_train, y_train,\n",
    "                            epochs=150,\n",
    "                            batch_size=16,\n",
    "                            validation_data=(processed_X_val, y_val),\n",
    "                            callbacks=[checkpoint, earlystopping])\n",
    "\n",
    "print('-----------------EVALUATION----------------')\n",
    "loss, accuracy = model_mlp.evaluate(processed_X_test, y_test)\n",
    "print('LOSS: ', loss)\n",
    "print(\"ACCURACY: \", accuracy)"
   ]
  },
  {
   "cell_type": "code",
   "execution_count": 23,
   "metadata": {},
   "outputs": [
    {
     "name": "stdout",
     "output_type": "stream",
     "text": [
      "41/41 [==============================] - 0s 5ms/step\n",
      "PRECISION:  0.983953841516443\n",
      "RECALL:  0.977743668457406\n",
      "F1-SCORE:  0.979006575736038\n"
     ]
    }
   ],
   "source": [
    "# Make predictions on test data\n",
    "y_pred = model_mlp.predict(processed_X_test)\n",
    "# Convert predictions to labels\n",
    "y_pred = tf.argmax(y_pred, axis=1).numpy()\n",
    "\n",
    "# Calculate precision, recall, and f1-score\n",
    "precision = precision_score(tf.argmax(y_test, axis=1).numpy(), y_pred, average='weighted')\n",
    "recall = recall_score(tf.argmax(y_test, axis=1).numpy(), y_pred, average='weighted')\n",
    "f1 = f1_score(tf.argmax(y_test, axis=1).numpy(), y_pred, average='weighted')\n",
    "\n",
    "print('PRECISION: ', precision)\n",
    "print('RECALL: ', recall)\n",
    "print('F1-SCORE: ', f1)"
   ]
  },
  {
   "cell_type": "code",
   "execution_count": 17,
   "metadata": {},
   "outputs": [],
   "source": [
    "# Get the accuracy and validation accuracy from the history object\n",
    "acc = history_mlp.history['accuracy']\n",
    "val_acc = history_mlp.history['val_accuracy']\n",
    "\n",
    "# Get the loss and validation loss from the history object\n",
    "loss = history_mlp.history['loss']\n",
    "val_loss = history_mlp.history['val_loss']"
   ]
  },
  {
   "cell_type": "code",
   "execution_count": 18,
   "metadata": {},
   "outputs": [
    {
     "data": {
      "image/png": "[encoded data removed]",
      "text/plain": [
       "<Figure size 800x400 with 1 Axes>"
      ]
     },
     "metadata": {},
     "output_type": "display_data"
    }
   ],
   "source": [
    "# Plot the accuracy\n",
    "plt.figure(figsize=(8, 4))\n",
    "plt.plot(range(len(acc)), acc, label='Train Accuracy')\n",
    "plt.plot(range(len(val_acc)), val_acc, label='Validation Accuracy')\n",
    "plt.title('Training and Validation Accuracy')\n",
    "plt.xlabel('Epochs')\n",
    "plt.ylabel('Accuracy')\n",
    "plt.legend()\n",
    "plt.savefig('accuracy_plot.jpg')\n",
    "plt.show()"
   ]
  },
  {
   "cell_type": "code",
   "execution_count": 19,
   "metadata": {},
   "outputs": [
    {
     "data": {
      "image/png": "[encoded data removed]",
      "text/plain": [
       "<Figure size 800x400 with 1 Axes>"
      ]
     },
     "metadata": {},
     "output_type": "display_data"
    }
   ],
   "source": [
    "# Plot the loss\n",
    "plt.figure(figsize=(8, 4))\n",
    "plt.plot(range(len(loss)), loss, label='Train Loss')\n",
    "plt.plot(range(len(val_loss)), val_loss, label='Validation Loss')\n",
    "plt.title('Training and Validation Loss')\n",
    "plt.xlabel('Epochs')\n",
    "plt.ylabel('Loss')\n",
    "plt.legend()\n",
    "plt.savefig('loss_plot.jpg')\n",
    "plt.show()"
   ]
  },
  {
   "cell_type": "code",
   "execution_count": 20,
   "metadata": {},
   "outputs": [
    {
     "name": "stdout",
     "output_type": "stream",
     "text": [
      "tfjs model saved at  model\n"
     ]
    },
    {
     "name": "stderr",
     "output_type": "stream",
     "text": [
      "/Users/oabas/miniconda3/lib/python3.9/site-packages/keras/src/engine/training.py:3000: UserWarning: You are saving your model as an HDF5 file via `model.save()`. This file format is considered legacy. We recommend using instead the native Keras format, e.g. `model.save('my_model.keras')`.\n",
      "  saving_api.save_model(\n"
     ]
    }
   ],
   "source": [
    "# Save the model as a SavedModel\n",
    "tfjs.converters.save_keras_model(model_mlp, tfjs_model_dir)\n",
    "print('tfjs model saved at ',tfjs_model_dir)"
   ]
  },
  {
   "cell_type": "code",
   "execution_count": null,
   "metadata": {},
   "outputs": [],
   "source": []
  }
 ],
 "metadata": {
  "kernelspec": {
   "display_name": "dissertation_env",
   "language": "python",
   "name": "python3"
  },
  "language_info": {
   "codemirror_mode": {
    "name": "ipython",
    "version": 3
   },
   "file_extension": ".py",
   "mimetype": "text/x-python",
   "name": "python",
   "nbconvert_exporter": "python",
   "pygments_lexer": "ipython3",
   "version": "3.9.16"
  },
  "orig_nbformat": 4
 },
 "nbformat": 4,
 "nbformat_minor": 2
}
